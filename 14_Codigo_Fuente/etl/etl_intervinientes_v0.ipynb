{
 "cells": [
  {
   "cell_type": "code",
   "execution_count": null,
   "metadata": {
    "application/vnd.databricks.v1+cell": {
     "inputWidgets": {},
     "nuid": "c11ba22c-2a11-4e23-9380-5e0041cee129",
     "showTitle": true,
     "title": "Configure storage account key"
    }
   },
   "outputs": [],
   "source": [
    "spark.conf.set(\"fs.azure.account.key.stupramonitoreomercado.dfs.core.windows.net\", \"xxx\")\n",
    "spark.conf.set(\"fs.azure.createRemoteFileSystemDuringInitialization\", \"true\")\n",
    "dbutils.fs.ls(\"abfss://raw@stupramonitoreomercado.dfs.core.windows.net/\")\n",
    "spark.conf.set(\"fs.azure.createRemoteFileSystemDuringInitialization\", \"false\")\n",
    "#spark.conf.set(\"spark.sql.shuffle.partitions\",3000)\n",
    "#spark.conf.set(\"spark.default.parallelism\",3000)"
   ]
  },
  {
   "cell_type": "code",
   "execution_count": null,
   "metadata": {
    "application/vnd.databricks.v1+cell": {
     "inputWidgets": {},
     "nuid": "0b397389-299f-4cb3-a69e-d110977cd274",
     "showTitle": true,
     "title": "List filesystem"
    }
   },
   "outputs": [],
   "source": [
    "dbutils.fs.ls(\"abfss://raw@stupramonitoreomercado.dfs.core.windows.net/OTROS/SNR/JSON/\")"
   ]
  },
  {
   "cell_type": "code",
   "execution_count": null,
   "metadata": {
    "application/vnd.databricks.v1+cell": {
     "inputWidgets": {},
     "nuid": "1f63c8a5-5743-400b-8ec6-954c276aad21",
     "showTitle": false,
     "title": ""
    }
   },
   "outputs": [],
   "source": [
    "dbutils.fs.head(\"abfss://raw@stupramonitoreomercado.dfs.core.windows.net/OTROS/SNR/JSON/RANGOS_CEDULA.json\")"
   ]
  },
  {
   "cell_type": "code",
   "execution_count": null,
   "metadata": {
    "application/vnd.databricks.v1+cell": {
     "inputWidgets": {},
     "nuid": "48facf81-9536-4c65-b651-1c8ecedc5908",
     "showTitle": false,
     "title": ""
    }
   },
   "outputs": [],
   "source": [
    "'''\n",
    ",\"SASTableData+RANGOS_CEDULA\":[\n",
    "\n",
    "{\"COD_NATURALEZA\":\"0125\",\n",
    "\"NATURALEZA_JURIDICA\":\"COMPRAVENTA\",\n",
    "\"ROL\":\"DE\",\n",
    "\"PERSONA\":\"MARIA CRISTINA\",\n",
    "\"TIPO_DOCUMENTO\":\"C\",\n",
    "\"NUMERO_DOCUMENTO\":00000,\n",
    "\"RANGOS_CEDULA_SEXO\":\"MUJER\"},\n",
    "\n",
    "\n",
    "'''\n",
    "\n",
    "from pyspark.sql.functions import *\n",
    "from pyspark.sql.types import *\n",
    "#lines = textFile.collect()\n",
    "\n",
    "# https://spark.apache.org/docs/latest/sql-ref-datatypes.html\n",
    "\n",
    "schema = StructType().add(\n",
    "  StructField(\"SASTableData+RANGOS_CEDULA\", ArrayType(\n",
    "      StructType([\n",
    "          StructField(\"COD_NATURALEZA\", StringType()),\n",
    "          StructField(\"NATURALEZA_JURIDICA\", StringType()),\n",
    "          StructField(\"ROL\", StringType()),\n",
    "          StructField(\"PERSONA\", StringType()),\n",
    "          StructField(\"TIPO_DOCUMENTO\", StringType()),\n",
    "          StructField(\"NUMERO_DOCUMENTO\", StringType()),\n",
    "          StructField(\"RANGOS_CEDULA_SEXO\", StringType())\n",
    "      ])\n",
    "   )\n",
    "))\n",
    "\n",
    "\n",
    "df1 = spark.read.json(\"abfss://raw@stupramonitoreomercado.dfs.core.windows.net/OTROS/SNR/JSON/RANGOS_CEDULA.json\", schema=schema)"
   ]
  },
  {
   "cell_type": "code",
   "execution_count": null,
   "metadata": {
    "application/vnd.databricks.v1+cell": {
     "inputWidgets": {},
     "nuid": "d08793b0-d29b-4f2d-90e7-26957164cea6",
     "showTitle": false,
     "title": ""
    }
   },
   "outputs": [],
   "source": [
    "df1.count()"
   ]
  },
  {
   "cell_type": "code",
   "execution_count": null,
   "metadata": {
    "application/vnd.databricks.v1+cell": {
     "inputWidgets": {},
     "nuid": "254a6e5a-309e-41fc-b99a-45be9e14afe1",
     "showTitle": false,
     "title": ""
    }
   },
   "outputs": [],
   "source": [
    "df1.printSchema()"
   ]
  },
  {
   "cell_type": "code",
   "execution_count": null,
   "metadata": {
    "application/vnd.databricks.v1+cell": {
     "inputWidgets": {},
     "nuid": "0a54bf47-d2f7-4798-a122-76cc7f0af755",
     "showTitle": false,
     "title": ""
    }
   },
   "outputs": [],
   "source": [
    "#df1.createOrReplaceTempView(\"personas\")\n",
    "\n",
    "#spark.sql(\"select SASTableData+RANGOS_CEDULA from personas \" )"
   ]
  },
  {
   "cell_type": "code",
   "execution_count": null,
   "metadata": {
    "application/vnd.databricks.v1+cell": {
     "inputWidgets": {},
     "nuid": "a23ee9cd-e4dc-4d08-b402-c4f7ecd5f88e",
     "showTitle": false,
     "title": ""
    }
   },
   "outputs": [],
   "source": [
    "#rows = df1.select(  explode( \"SASTableData+RANGOS_CEDULA\" )) \n",
    "#rows = df1.select( explode(  array(\"SASTableData+RANGOS_CEDULA\").alias(\"row\")  ) ) \n",
    "\n",
    "rows = df1.select( explode(\"SASTableData+RANGOS_CEDULA\").alias(\"row\") )\n",
    "rows.count()"
   ]
  },
  {
   "cell_type": "code",
   "execution_count": null,
   "metadata": {
    "application/vnd.databricks.v1+cell": {
     "inputWidgets": {},
     "nuid": "82b4c1a1-a1d8-4a8d-8259-68290b070155",
     "showTitle": false,
     "title": ""
    }
   },
   "outputs": [],
   "source": [
    "rows.printSchema()"
   ]
  },
  {
   "cell_type": "code",
   "execution_count": null,
   "metadata": {
    "application/vnd.databricks.v1+cell": {
     "inputWidgets": {},
     "nuid": "034207b0-f0e5-493b-b27d-7658533b3e0f",
     "showTitle": false,
     "title": ""
    }
   },
   "outputs": [],
   "source": [
    "display(rows)"
   ]
  },
  {
   "cell_type": "code",
   "execution_count": null,
   "metadata": {
    "application/vnd.databricks.v1+cell": {
     "inputWidgets": {},
     "nuid": "72b1b8ed-04be-4f47-b6a6-e132697928fb",
     "showTitle": false,
     "title": ""
    }
   },
   "outputs": [],
   "source": [
    "rows.select( \"row.*\").show()"
   ]
  },
  {
   "cell_type": "code",
   "execution_count": null,
   "metadata": {
    "application/vnd.databricks.v1+cell": {
     "inputWidgets": {},
     "nuid": "fa4cef99-7ee0-4dce-bfac-a8b3f5223c55",
     "showTitle": false,
     "title": ""
    }
   },
   "outputs": [],
   "source": [
    "parsed_rows = rows.select( \"row.*\")"
   ]
  },
  {
   "cell_type": "code",
   "execution_count": null,
   "metadata": {
    "application/vnd.databricks.v1+cell": {
     "inputWidgets": {},
     "nuid": "8c1eb8b4-d127-4389-be43-274a07937cad",
     "showTitle": false,
     "title": ""
    }
   },
   "outputs": [],
   "source": [
    "parsed_rows.write.parquet(\"abfss://standarized@stupramonitoreomercado.dfs.core.windows.net/OTROS/SNR/RANGOS_CEDULA.parquet\")"
   ]
  },
  {
   "cell_type": "code",
   "execution_count": null,
   "metadata": {
    "application/vnd.databricks.v1+cell": {
     "inputWidgets": {},
     "nuid": "dfe8d642-33cd-4f95-80c2-862a9d1d1712",
     "showTitle": true,
     "title": "Leer datos desde el Data Lake"
    }
   },
   "outputs": [],
   "source": [
    "df2 = spark.read.parquet(\"abfss://standarized@stupramonitoreomercado.dfs.core.windows.net/OTROS/SNR/RANGOS_CEDULA.parquet\")\n",
    "#display(from_json(df2.select(\"col\"))\n",
    "display(df2)"
   ]
  },
  {
   "cell_type": "code",
   "execution_count": null,
   "metadata": {
    "application/vnd.databricks.v1+cell": {
     "inputWidgets": {},
     "nuid": "cc6ca742-48a7-4a4e-bc5c-57be1a73561e",
     "showTitle": false,
     "title": ""
    }
   },
   "outputs": [],
   "source": [
    "df2.count()"
   ]
  },
  {
   "cell_type": "code",
   "execution_count": null,
   "metadata": {
    "application/vnd.databricks.v1+cell": {
     "inputWidgets": {},
     "nuid": "b49c0a77-e4be-43e9-96ea-84363c634a2f",
     "showTitle": true,
     "title": "Remover duplicados con pyspark"
    }
   },
   "outputs": [],
   "source": [
    "df3 = df2.dropDuplicates()\n",
    "df3.count()"
   ]
  },
  {
   "cell_type": "code",
   "execution_count": null,
   "metadata": {
    "application/vnd.databricks.v1+cell": {
     "inputWidgets": {},
     "nuid": "acede6a8-0868-46af-a280-8b57d4b98569",
     "showTitle": false,
     "title": ""
    }
   },
   "outputs": [],
   "source": [
    "df3.show()"
   ]
  },
  {
   "cell_type": "code",
   "execution_count": null,
   "metadata": {
    "application/vnd.databricks.v1+cell": {
     "inputWidgets": {},
     "nuid": "3e1f1a15-31f5-40f9-bde3-28255a66d601",
     "showTitle": false,
     "title": ""
    }
   },
   "outputs": [],
   "source": [
    "df3.createOrReplaceTempView(\"personas\")\n",
    "\n",
    "# se ignoran los Nit (N), CEDULA EXTRANJERIA O PASAPORTE (E) y los que no tienen número de documento\n",
    "\n",
    "df3_filter  = spark.sql(\"\"\"\n",
    "SELECT distinct  \n",
    " regexp_replace(  regexp_replace( trim(upper(PERSONA)),  ' +', ' ') ,  ',+', ','    )   as PERSONA , \n",
    "TIPO_DOCUMENTO, NUMERO_DOCUMENTO, RANGOS_CEDULA_SEXO\n",
    "FROM personas\n",
    "where TIPO_DOCUMENTO <> 'N'  \n",
    "and TIPO_DOCUMENTO <>   'E'\n",
    "and NUMERO_DOCUMENTO IS NOT NULL\n",
    "\"\"\")\n",
    "\n",
    "\n",
    "\n",
    "df3_filter.count()\n",
    "# 2894721  -- sin distinct\n",
    "# 2108660  -- con distinct"
   ]
  },
  {
   "cell_type": "code",
   "execution_count": null,
   "metadata": {
    "application/vnd.databricks.v1+cell": {
     "inputWidgets": {},
     "nuid": "e9e83f87-32d1-4175-91ac-bdbe3af5104e",
     "showTitle": false,
     "title": ""
    }
   },
   "outputs": [],
   "source": [
    "df3_filter.show(truncate=False) "
   ]
  },
  {
   "cell_type": "code",
   "execution_count": null,
   "metadata": {
    "application/vnd.databricks.v1+cell": {
     "inputWidgets": {},
     "nuid": "b9fd8a55-939f-494a-a45c-b1a61efae0de",
     "showTitle": false,
     "title": ""
    }
   },
   "outputs": [],
   "source": [
    "\n",
    "from pyspark.sql.types import *\n",
    "from pyspark.sql.functions import udf\n",
    "import pyspark.sql.functions as F\n",
    "\n",
    "# listado de funciones   https://spark.apache.org/docs/latest/api/python/pyspark.sql.html#module-pyspark.sql.functions\n",
    "\n",
    "\n",
    "def count_words(nombre):\n",
    "  return len(nombre.split(\" \") )\n",
    "\n",
    "count_words_udf = udf(count_words, IntegerType() )\n",
    "\n",
    "def count_commas(nombre):\n",
    "  return len(nombre.split(\",\") )\n",
    "\n",
    "count_commas_udf = udf(count_commas, IntegerType() )\n",
    "\n",
    "#  Notas: hay algunas personas que separan apellido y nombre usando una coma \n",
    "df4_filter = df3_filter.withColumn(\"persona_num_parts\", count_words_udf(df3_filter.PERSONA)  )\n",
    "df4_filter = df4_filter.withColumn(\"persona_num_commas\", count_commas_udf(df4_filter.PERSONA)  )\n",
    "df4_filter.show(truncate=False) "
   ]
  },
  {
   "cell_type": "code",
   "execution_count": null,
   "metadata": {
    "application/vnd.databricks.v1+cell": {
     "inputWidgets": {},
     "nuid": "526d0741-bc54-4741-851d-3ef4bc07eeaf",
     "showTitle": false,
     "title": ""
    }
   },
   "outputs": [],
   "source": [
    "df4_filter.createOrReplaceTempView(\"personas_filtradas\")\n",
    "\n"
   ]
  },
  {
   "cell_type": "code",
   "execution_count": null,
   "metadata": {
    "application/vnd.databricks.v1+cell": {
     "inputWidgets": {},
     "nuid": "e923c1de-ceb9-4c7c-9170-fcf2f07f6c7d",
     "showTitle": false,
     "title": ""
    }
   },
   "outputs": [],
   "source": [
    "df5_filter  = spark.sql(\"\"\"\n",
    "SELECT persona_num_commas, count(*) \n",
    "FROM personas_filtradas\n",
    "group by persona_num_commas \n",
    "order by persona_num_commas desc, count(*) desc\n",
    "\"\"\")\n",
    "\n",
    "df5_filter.show(truncate=False) "
   ]
  },
  {
   "cell_type": "code",
   "execution_count": null,
   "metadata": {
    "application/vnd.databricks.v1+cell": {
     "inputWidgets": {},
     "nuid": "123136a6-bd6c-4721-a42a-8d0962db79d4",
     "showTitle": false,
     "title": ""
    }
   },
   "outputs": [],
   "source": [
    "spark.sql(\"\"\"\n",
    "SELECT *\n",
    "FROM personas_filtradas\n",
    "where  persona_num_commas = 3\n",
    "\"\"\").show(n= 10, truncate=False) "
   ]
  },
  {
   "cell_type": "code",
   "execution_count": null,
   "metadata": {
    "application/vnd.databricks.v1+cell": {
     "inputWidgets": {},
     "nuid": "ea3e2311-7da4-4d32-954d-4e3199691209",
     "showTitle": false,
     "title": ""
    }
   },
   "outputs": [],
   "source": [
    "# se ignoran los nombres con más de 3 \",\"\n",
    "\n",
    "df4_filter_comma =   spark.sql(\"\"\"\n",
    "SELECT *\n",
    "FROM personas_filtradas\n",
    "where  persona_num_commas = 2\n",
    "\"\"\")\n",
    "df4_filter_comma.show(n= 10, truncate=False) "
   ]
  },
  {
   "cell_type": "code",
   "execution_count": null,
   "metadata": {
    "application/vnd.databricks.v1+cell": {
     "inputWidgets": {},
     "nuid": "5eae8df5-92b4-4fdf-8feb-50494db6dbf1",
     "showTitle": false,
     "title": ""
    }
   },
   "outputs": [],
   "source": [
    "split_col = F.split(df4_filter_comma['PERSONA'], ',')\n",
    "df4_filter_comma = df4_filter_comma.withColumn('APELLIDOS', split_col.getItem(0))\n",
    "df4_filter_comma = df4_filter_comma.withColumn('NOMBRES', split_col.getItem(1))\n",
    "df4_filter_comma.show(n= 10, truncate=False) "
   ]
  },
  {
   "cell_type": "code",
   "execution_count": null,
   "metadata": {
    "application/vnd.databricks.v1+cell": {
     "inputWidgets": {},
     "nuid": "095eefa3-d811-477e-8aab-12fc35fe04e8",
     "showTitle": false,
     "title": ""
    }
   },
   "outputs": [],
   "source": [
    "#df4_filter_comma.select([\"NOMBRES\", \"RANGOS_CEDULA_SEXO\"]).orderBy('NOMBRES',ascending=True).show()\n",
    "# df_export = df4_filter_comma.select([\"NOMBRES\", \"RANGOS_CEDULA_SEXO\"]).orderBy('NOMBRES',ascending=True)\n",
    "df4_filter_comma.createOrReplaceTempView(\"personas_split_commma\")\n",
    "\n",
    "df_export =   spark.sql(\"\"\"\n",
    "SELECT distinct  trim(NOMBRES) as NOMBRES, RANGOS_CEDULA_SEXO\n",
    "FROM personas_split_commma\n",
    "order by NOMBRES\n",
    "\"\"\")\n",
    "#  distinct trim(NOMBRES), RANGOS_CEDULA_SEXO\n",
    "df_export.show(n= 10, truncate=False) \n"
   ]
  },
  {
   "cell_type": "code",
   "execution_count": null,
   "metadata": {
    "application/vnd.databricks.v1+cell": {
     "inputWidgets": {},
     "nuid": "2335e551-eb4b-4754-8879-bd2ecf6bdc6f",
     "showTitle": true,
     "title": "exportar archivo json con los nombres clasificados a partir de la columna PERSONA separada por \",\""
    }
   },
   "outputs": [],
   "source": [
    "\n",
    "df_export.coalesce(1).write.json(\"abfss://sandbox@stupramonitoreomercado.dfs.core.windows.net/OTROS/SNR/nombres_separados_coma.json\")"
   ]
  },
  {
   "cell_type": "code",
   "execution_count": null,
   "metadata": {
    "application/vnd.databricks.v1+cell": {
     "inputWidgets": {},
     "nuid": "00ff8f2f-d5f9-443f-9e2a-36222bae9f30",
     "showTitle": true,
     "title": "procesar texto personas sin \",\""
    }
   },
   "outputs": [],
   "source": [
    "df4_filter_sin_comma =   spark.sql(\"\"\"\n",
    "SELECT *\n",
    "FROM personas_filtradas\n",
    "where  persona_num_commas = 1\n",
    "\"\"\")\n",
    "df4_filter_sin_comma.show(n= 10, truncate=False) "
   ]
  },
  {
   "cell_type": "code",
   "execution_count": null,
   "metadata": {
    "application/vnd.databricks.v1+cell": {
     "inputWidgets": {},
     "nuid": "76ff3124-a288-41f4-a12a-4afac64b5631",
     "showTitle": false,
     "title": ""
    }
   },
   "outputs": [],
   "source": [
    "df4_filter_sin_comma.count()"
   ]
  },
  {
   "cell_type": "code",
   "execution_count": null,
   "metadata": {
    "application/vnd.databricks.v1+cell": {
     "inputWidgets": {},
     "nuid": "eb46fca7-80e7-42d4-bf5f-5155e11dffd9",
     "showTitle": false,
     "title": ""
    }
   },
   "outputs": [],
   "source": [
    "'''\n",
    "def remove_spaces(nombre):\n",
    "  return re.sub(' +', ' ', nombre.strip())\n",
    "\n",
    "remove_spaces_udf = udf(remove_spaces, StringType() )\n",
    "#df4_filter = df3_filter.withColumn(\"nombre_clean\", remove_punctuation_udf(df3_filter.PERSONA))\n",
    "'''\n",
    "\n",
    "## Remover doble espacio\n",
    "#df4_filter = df3_filter.withColumn('nombre_clean', F.regexp_replace('PERSONA', r' +', ' '))\n",
    "\n",
    "#remover puntuación\n",
    "df5 = df4_filter_sin_comma.withColumn('PERSONA_CLEAN', F.regexp_replace('PERSONA', r'[^\\w\\s]', ''))\n",
    "df5 = df5.withColumn('PERSONA_CLEAN', F.regexp_replace('PERSONA_CLEAN', r' DEL ', ' '))\n",
    "df5 = df5.withColumn('PERSONA_CLEAN', F.regexp_replace('PERSONA_CLEAN', r' DE LA ', ' '))\n",
    "df5 = df5.withColumn('PERSONA_CLEAN', F.regexp_replace('PERSONA_CLEAN', r' DE LAS ', ' '))\n",
    "df5 = df5.withColumn('PERSONA_CLEAN', F.regexp_replace('PERSONA_CLEAN', r' DE ', ' '))\n",
    "df5 = df5.withColumn('PERSONA_CLEAN', F.regexp_replace('PERSONA_CLEAN', r' LOS ', ' '))\n",
    "df5 = df5.withColumn('PERSONA_CLEAN', F.regexp_replace('PERSONA_CLEAN', r'^DEL ', ''))\n",
    "df5 = df5.withColumn('PERSONA_CLEAN', F.regexp_replace('PERSONA_CLEAN', r'^DE LA ', ''))\n",
    "df5 = df5.withColumn('PERSONA_CLEAN', F.regexp_replace('PERSONA_CLEAN', r'^DE LAS ', ''))\n",
    "df5 = df5.withColumn('PERSONA_CLEAN', F.regexp_replace('PERSONA_CLEAN', r'^DE ', ''))\n",
    "df5 = df5.withColumn('PERSONA_CLEAN', F.regexp_replace('PERSONA_CLEAN', r'^LOS ', ''))\n",
    "df5 = df5.withColumn('PERSONA_CLEAN', F.regexp_replace('PERSONA_CLEAN', r'^LA ', ''))\n",
    "\n",
    "#actualizar conteo de partes\n",
    "df5 = df5.withColumn(\"persona_num_parts\", count_words_udf(df5.PERSONA_CLEAN)  )\n",
    "\n",
    "df5.show(truncate=False) "
   ]
  },
  {
   "cell_type": "code",
   "execution_count": null,
   "metadata": {
    "application/vnd.databricks.v1+cell": {
     "inputWidgets": {},
     "nuid": "9d339dc7-93a4-4459-b7ef-cfafae015549",
     "showTitle": false,
     "title": ""
    }
   },
   "outputs": [],
   "source": [
    "df5.createOrReplaceTempView(\"personas_without_comma\")\n",
    "\n",
    "spark.sql(\"\"\"\n",
    "SELECT * \n",
    "FROM personas_without_comma\n",
    "where  persona_num_parts = 2\n",
    "\"\"\").show(truncate=False) "
   ]
  },
  {
   "cell_type": "code",
   "execution_count": null,
   "metadata": {
    "application/vnd.databricks.v1+cell": {
     "inputWidgets": {},
     "nuid": "2ff56a9a-02e3-4eda-b15f-41663f5f6e12",
     "showTitle": true,
     "title": "Caso persona_num_parts = 2 :    Apellido Nombre"
    }
   },
   "outputs": [],
   "source": [
    "df_export =  spark.sql(\"\"\"\n",
    "SELECT * \n",
    "FROM personas_without_comma\n",
    "where  persona_num_parts = 2\n",
    "\"\"\")\n",
    "\n",
    "split_col = F.split(df_export['PERSONA_CLEAN'], ' ')\n",
    "df_export = df_export.withColumn('APELLIDOS', split_col.getItem(0))\n",
    "df_export = df_export.withColumn('NOMBRES', split_col.getItem(1))\n",
    "df_export.show(n= 10, truncate=False) \n",
    "\n"
   ]
  },
  {
   "cell_type": "code",
   "execution_count": null,
   "metadata": {
    "application/vnd.databricks.v1+cell": {
     "inputWidgets": {},
     "nuid": "c04eba8a-0d2b-4093-a4b2-c390905a057c",
     "showTitle": false,
     "title": ""
    }
   },
   "outputs": [],
   "source": [
    "df_export.createOrReplaceTempView(\"personas_apellido_nombre\")\n",
    "\n",
    "df_export_2 =   spark.sql(\"\"\"\n",
    "SELECT distinct  trim(NOMBRES) as NOMBRES, RANGOS_CEDULA_SEXO\n",
    "FROM personas_apellido_nombre\n",
    "order by NOMBRES\n",
    "\"\"\")\n",
    "#  distinct trim(NOMBRES), RANGOS_CEDULA_SEXO\n",
    "#df_export.show(n= 10, truncate=False) \n",
    "\n",
    "\n",
    "df_export_2.coalesce(1).write.json(\"abfss://sandbox@stupramonitoreomercado.dfs.core.windows.net/OTROS/SNR/nombres_apellido_nombre.json\")"
   ]
  },
  {
   "cell_type": "code",
   "execution_count": null,
   "metadata": {
    "application/vnd.databricks.v1+cell": {
     "inputWidgets": {},
     "nuid": "b3321723-bd6f-4593-9956-23a5e076cbe6",
     "showTitle": true,
     "title": "Caso persona_num_parts >= 3 :    Apellido Nombre(s)"
    }
   },
   "outputs": [],
   "source": [
    "df_export =  spark.sql(\"\"\"\n",
    "SELECT * \n",
    "FROM personas_without_comma\n",
    "where  persona_num_parts > 2\n",
    "\"\"\")\n",
    "\n",
    "split_col = F.split(df_export['PERSONA_CLEAN'], '^(?:\\S+\\s){1}(\\S+)'   )\n",
    "#df_export = df_export.withColumn('APELLIDOS', split_col.getItem(0)       )\n",
    "df_export = df_export.withColumn('NOMBRES', split_col.getItem(1)  )\n",
    "\n",
    "\n",
    "\n",
    "\n",
    "df_export.show(n= 10, truncate=False) \n",
    "\n",
    "\n"
   ]
  },
  {
   "cell_type": "code",
   "execution_count": null,
   "metadata": {
    "application/vnd.databricks.v1+cell": {
     "inputWidgets": {},
     "nuid": "e11321f5-4d15-412e-9b96-e0b6df8d21b1",
     "showTitle": false,
     "title": ""
    }
   },
   "outputs": [],
   "source": [
    "df_export.createOrReplaceTempView(\"personas_apellido_nombres\")\n",
    "\n",
    "df_export_2 =   spark.sql(\"\"\"\n",
    "SELECT distinct  trim(NOMBRES) as NOMBRES, RANGOS_CEDULA_SEXO\n",
    "FROM personas_apellido_nombres\n",
    "order by NOMBRES\n",
    "\"\"\")\n",
    "#  distinct trim(NOMBRES), RANGOS_CEDULA_SEXO\n",
    "#df_export.show(n= 10, truncate=False) \n",
    "\n",
    "\n",
    "df_export_2.coalesce(1).write.json(\"abfss://sandbox@stupramonitoreomercado.dfs.core.windows.net/OTROS/SNR/nombres_apellido_nombres.json\")"
   ]
  },
  {
   "cell_type": "code",
   "execution_count": null,
   "metadata": {
    "application/vnd.databricks.v1+cell": {
     "inputWidgets": {},
     "nuid": "4e67fb1b-3a9c-4ae9-b6c9-d1625e5656e9",
     "showTitle": true,
     "title": "Conteo de nombres por cantidad de palabras"
    }
   },
   "outputs": [],
   "source": [
    "spark.sql(\"\"\"\n",
    "SELECT persona_num_parts, count(*) \n",
    "FROM personas_without_comma\n",
    "group by persona_num_parts \n",
    "order by persona_num_parts asc\n",
    "\"\"\").show(truncate=False) "
   ]
  },
  {
   "cell_type": "code",
   "execution_count": null,
   "metadata": {
    "application/vnd.databricks.v1+cell": {
     "inputWidgets": {},
     "nuid": "34111a8a-0bcb-4c59-a826-730aa05c96fd",
     "showTitle": false,
     "title": ""
    }
   },
   "outputs": [],
   "source": [
    "spark.sql(\"\"\"\n",
    "SELECT *\n",
    "FROM personas_without_comma\n",
    "where  persona_num_parts = 1 \n",
    "\"\"\").show(n= 50, truncate=False) "
   ]
  },
  {
   "cell_type": "code",
   "execution_count": null,
   "metadata": {
    "application/vnd.databricks.v1+cell": {
     "inputWidgets": {},
     "nuid": "3e162992-8c1f-4c05-b740-98cae1a0ad6c",
     "showTitle": false,
     "title": ""
    }
   },
   "outputs": [],
   "source": [
    "dfwc  = spark.sql(\"\"\"\n",
    "SELECT persona_num_parts, count(*) \n",
    "FROM personas_without_comma\n",
    "group by persona_num_parts \n",
    "order by persona_num_parts asc, count(*) desc\n",
    "\"\"\")\n",
    "\n",
    "dfwc.show(truncate=False) "
   ]
  },
  {
   "cell_type": "code",
   "execution_count": null,
   "metadata": {
    "application/vnd.databricks.v1+cell": {
     "inputWidgets": {},
     "nuid": "713bc3e8-325f-493d-8e56-f60460c4029e",
     "showTitle": false,
     "title": ""
    }
   },
   "outputs": [],
   "source": []
  },
  {
   "cell_type": "code",
   "execution_count": null,
   "metadata": {
    "application/vnd.databricks.v1+cell": {
     "inputWidgets": {},
     "nuid": "0944fbc4-0e76-4df5-9ae5-74e5fdab94c0",
     "showTitle": true,
     "title": "exploración preliminar"
    }
   },
   "outputs": [],
   "source": []
  },
  {
   "cell_type": "code",
   "execution_count": null,
   "metadata": {
    "application/vnd.databricks.v1+cell": {
     "inputWidgets": {},
     "nuid": "c058eeed-c555-47e8-9d89-2c9e6c1fc1f3",
     "showTitle": false,
     "title": ""
    }
   },
   "outputs": [],
   "source": [
    "df4_filter.createOrReplaceTempView(\"personas_filtradas\")\n",
    "\n",
    "df5_filter  = spark.sql(\"\"\"\n",
    "SELECT num_parts_nombre, count(*) \n",
    "FROM personas_filtradas\n",
    "group by num_parts_nombre order by num_parts_nombre desc, count(*) desc\n",
    "\"\"\")\n",
    "\n",
    "df5_filter.show(truncate=False) "
   ]
  },
  {
   "cell_type": "code",
   "execution_count": null,
   "metadata": {
    "application/vnd.databricks.v1+cell": {
     "inputWidgets": {},
     "nuid": "a5b604de-ec3d-41f5-8595-69277aa26ff9",
     "showTitle": false,
     "title": ""
    }
   },
   "outputs": [],
   "source": [
    "df5_filter  = spark.sql(\"\"\"\n",
    "SELECT * \n",
    "FROM personas_filtradas\n",
    "where num_parts_nombre > 20\n",
    "\"\"\")\n",
    "\n",
    "#   tipo_documento = 'E'\n",
    "df5_filter.show(truncate=False) "
   ]
  },
  {
   "cell_type": "code",
   "execution_count": null,
   "metadata": {
    "application/vnd.databricks.v1+cell": {
     "inputWidgets": {},
     "nuid": "18ada9b9-e698-462e-a9ee-29655b59eada",
     "showTitle": true,
     "title": "Generar reporte con pandas profiling (single node)"
    }
   },
   "outputs": [],
   "source": [
    "import numpy as np\n",
    "import pandas as pd\n",
    "import pandas_profiling\n",
    "from pandas_profiling import ProfileReport\n",
    "pd.__version__\n",
    "\n"
   ]
  },
  {
   "cell_type": "code",
   "execution_count": null,
   "metadata": {
    "application/vnd.databricks.v1+cell": {
     "inputWidgets": {},
     "nuid": "855b4302-8750-44a2-b8e3-e4947d563f6a",
     "showTitle": false,
     "title": ""
    }
   },
   "outputs": [],
   "source": [
    "df = df2.select(\"*\").toPandas()\n",
    "profile = ProfileReport(df, title=\"Pandas Profiling Report\")\n",
    "displayHTML(profile.to_html())\n"
   ]
  },
  {
   "cell_type": "code",
   "execution_count": null,
   "metadata": {
    "application/vnd.databricks.v1+cell": {
     "inputWidgets": {},
     "nuid": "1b2c9d88-e7ad-432d-9306-9f6f6b14319e",
     "showTitle": false,
     "title": ""
    }
   },
   "outputs": [],
   "source": [
    "dbutils.fs.put(\"abfss://standarized@stupramonitoreomercado.dfs.core.windows.net/OTROS/SNR/RANGOS_CEDULA.parquet_profile.html\", profile.to_html() )"
   ]
  },
  {
   "cell_type": "code",
   "execution_count": null,
   "metadata": {
    "application/vnd.databricks.v1+cell": {
     "inputWidgets": {},
     "nuid": "78c1b0b1-5c2f-4fe5-9bc2-40eabcd286d7",
     "showTitle": true,
     "title": "Profiler en el cluster de spark (optimus)"
    }
   },
   "outputs": [],
   "source": [
    "'''\n",
    "Requirements\n",
    "Apache Spark>= 2.4.0\n",
    "Python>=3.6\n",
    "\n",
    "No funciona: parece que hay  incompatiblidad con versiones recientes de pandas\n",
    "'''\n",
    "\n",
    "from pyspark.sql import SparkSession\n",
    "from optimus import Optimus\n",
    "\n",
    "spark = SparkSession.builder.appName('optimus').getOrCreate()\n",
    "op= Optimus(spark)\n",
    "\n",
    "odf = op.load.parquet(\"abfss://standarized@stupramonitoreomercado.dfs.core.windows.net/OTROS/SNR/RANGOS_CEDULA.parquet\")"
   ]
  },
  {
   "cell_type": "code",
   "execution_count": null,
   "metadata": {
    "application/vnd.databricks.v1+cell": {
     "inputWidgets": {},
     "nuid": "72954121-1af6-4c13-967a-6cb7d94e6aed",
     "showTitle": true,
     "title": "remover duplicados  (Pandas)"
    }
   },
   "outputs": [],
   "source": [
    "df_sin_duplicados = df.drop_duplicates()"
   ]
  },
  {
   "cell_type": "code",
   "execution_count": null,
   "metadata": {
    "application/vnd.databricks.v1+cell": {
     "inputWidgets": {},
     "nuid": "5e11d19b-cdca-45b9-9b80-40312884952e",
     "showTitle": false,
     "title": ""
    }
   },
   "outputs": [],
   "source": [
    "df_sin_duplicados.shape"
   ]
  },
  {
   "cell_type": "code",
   "execution_count": null,
   "metadata": {
    "application/vnd.databricks.v1+cell": {
     "inputWidgets": {},
     "nuid": "5fb15f31-1386-45dc-9647-c2863cc1f6fb",
     "showTitle": false,
     "title": ""
    }
   },
   "outputs": [],
   "source": [
    "profile = ProfileReport(df_sin_duplicados, title=\"Pandas Profiling Report\")\n",
    "dbutils.fs.put(\"abfss://raw@stupramonitoreomercado.dfs.core.windows.net/OTROS/SNR/JSON/RANGOS_CEDULA_v3.parquet_profile_sin_duplicados.html\", profile.to_html() )"
   ]
  },
  {
   "cell_type": "code",
   "execution_count": null,
   "metadata": {
    "application/vnd.databricks.v1+cell": {
     "inputWidgets": {},
     "nuid": "bbd0735d-dd7f-4f86-a082-a8a38ee29f8e",
     "showTitle": false,
     "title": ""
    }
   },
   "outputs": [],
   "source": []
  }
 ],
 "metadata": {
  "application/vnd.databricks.v1+notebook": {
   "dashboards": [],
   "language": "python",
   "notebookName": "ETL_Rangos_Cedula",
   "notebookOrigID": 4346587420968110,
   "widgets": {}
  },
  "kernelspec": {
   "display_name": "Python 3",
   "language": "python",
   "name": "python3"
  },
  "language_info": {
   "codemirror_mode": {
    "name": "ipython",
    "version": 3
   },
   "file_extension": ".py",
   "mimetype": "text/x-python",
   "name": "python",
   "nbconvert_exporter": "python",
   "pygments_lexer": "ipython3",
   "version": "3.8.5"
  }
 },
 "nbformat": 4,
 "nbformat_minor": 4
}
