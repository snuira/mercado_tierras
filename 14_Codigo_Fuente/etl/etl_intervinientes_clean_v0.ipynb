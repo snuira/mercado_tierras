{
 "cells": [
  {
   "cell_type": "code",
   "execution_count": null,
   "metadata": {
    "application/vnd.databricks.v1+cell": {
     "inputWidgets": {},
     "nuid": "95221270-4444-45cd-9ecb-214bb695453f",
     "showTitle": true,
     "title": "Importar librerías"
    }
   },
   "outputs": [],
   "source": [
    "from pyspark.sql.types import *\n",
    "from pyspark.sql.functions import udf\n",
    "from pyspark.sql.window import Window\n",
    "import pyspark.sql.functions as F\n",
    "\n",
    "\n",
    "import numpy as np\n",
    "import pandas as pd\n",
    "import pandas_profiling\n",
    "from pandas_profiling import ProfileReport\n",
    "pd.__version__\n"
   ]
  },
  {
   "cell_type": "code",
   "execution_count": null,
   "metadata": {
    "application/vnd.databricks.v1+cell": {
     "inputWidgets": {},
     "nuid": "c11ba22c-2a11-4e23-9380-5e0041cee129",
     "showTitle": true,
     "title": "Configure storage account key"
    }
   },
   "outputs": [],
   "source": [
    "spark.conf.set(\"fs.azure.account.key.stupramonitoreomercado.dfs.core.windows.net\", \"xxx\")\n",
    "spark.conf.set(\"fs.azure.createRemoteFileSystemDuringInitialization\", \"true\")\n",
    "dbutils.fs.ls(\"abfss://raw@stupramonitoreomercado.dfs.core.windows.net/\")\n",
    "spark.conf.set(\"fs.azure.createRemoteFileSystemDuringInitialization\", \"false\")\n",
    "#spark.conf.set(\"spark.sql.shuffle.partitions\",3000)\n",
    "#spark.conf.set(\"spark.default.parallelism\",3000)"
   ]
  },
  {
   "cell_type": "code",
   "execution_count": null,
   "metadata": {
    "application/vnd.databricks.v1+cell": {
     "inputWidgets": {},
     "nuid": "dfe8d642-33cd-4f95-80c2-862a9d1d1712",
     "showTitle": true,
     "title": "Leer datos Crudos desde el Data Lake"
    }
   },
   "outputs": [],
   "source": [
    "df2 = spark.read.parquet(\"abfss://standarized@stupramonitoreomercado.dfs.core.windows.net/OTROS/SNR/intervinientes_sin_duplicados.parquet\")\n",
    "#display(from_json(df2.select(\"col\"))\n",
    "display(df2)"
   ]
  },
  {
   "cell_type": "code",
   "execution_count": null,
   "metadata": {
    "application/vnd.databricks.v1+cell": {
     "inputWidgets": {},
     "nuid": "cc6ca742-48a7-4a4e-bc5c-57be1a73561e",
     "showTitle": false,
     "title": ""
    }
   },
   "outputs": [],
   "source": [
    "df2.count()"
   ]
  },
  {
   "cell_type": "code",
   "execution_count": null,
   "metadata": {
    "application/vnd.databricks.v1+cell": {
     "inputWidgets": {},
     "nuid": "c46ce94d-3c02-464d-9804-6c9a3a75bc13",
     "showTitle": false,
     "title": ""
    }
   },
   "outputs": [],
   "source": [
    "#df2 = df2.withColumn(\"id\", F.monotonically_increasing_id())\n",
    "\n",
    "df2 = df2.withColumn(\"id\", \n",
    "\t\t   F.row_number().over(Window.orderBy(\"LLAVE_COMP\"))\n",
    "     )\n",
    "\n",
    "df2.show()"
   ]
  },
  {
   "cell_type": "code",
   "execution_count": null,
   "metadata": {
    "application/vnd.databricks.v1+cell": {
     "inputWidgets": {},
     "nuid": "4602a886-3782-4a26-a4f5-782878c63c66",
     "showTitle": false,
     "title": ""
    }
   },
   "outputs": [],
   "source": [
    "df2.createOrReplaceTempView(\"intervinientes\")"
   ]
  },
  {
   "cell_type": "code",
   "execution_count": null,
   "metadata": {
    "application/vnd.databricks.v1+cell": {
     "inputWidgets": {},
     "nuid": "763ae13f-99f3-4761-9d54-864ccf8e2a60",
     "showTitle": false,
     "title": ""
    }
   },
   "outputs": [],
   "source": [
    "# listado de funciones   https://spark.apache.org/docs/latest/api/python/pyspark.sql.html#module-pyspark.sql.functions\n",
    "\n",
    "df_clean =   spark.sql(\"\"\"\n",
    "SELECT  *,\n",
    "trim( regexp_replace( regexp_replace(  regexp_replace( upper(PERSONA),  ' +', ' ') ,  ',+', ','    ) , '[^a-zA-Z ,]+' , '' ) )  as PERSONA_CLEAN  , \n",
    "trim(NUMERO_DOCUMENTO) as NUMERO_DOCUMENTO_CLEAN \n",
    "FROM intervinientes\n",
    "\"\"\")\n",
    "df_clean = df_clean.withColumn('PERSONA_CLEAN', F.regexp_replace('PERSONA_CLEAN', r' DEL ', ' '))\n",
    "df_clean = df_clean.withColumn('PERSONA_CLEAN', F.regexp_replace('PERSONA_CLEAN', r' DE LA ', ' '))\n",
    "df_clean = df_clean.withColumn('PERSONA_CLEAN', F.regexp_replace('PERSONA_CLEAN', r' DE LAS ', ' '))\n",
    "df_clean = df_clean.withColumn('PERSONA_CLEAN', F.regexp_replace('PERSONA_CLEAN', r' DE ', ' '))\n",
    "df_clean = df_clean.withColumn('PERSONA_CLEAN', F.regexp_replace('PERSONA_CLEAN', r' LOS ', ' '))\n",
    "df_clean = df_clean.withColumn('PERSONA_CLEAN', F.regexp_replace('PERSONA_CLEAN', r'^DEL ', ''))\n",
    "df_clean = df_clean.withColumn('PERSONA_CLEAN', F.regexp_replace('PERSONA_CLEAN', r'^DE LA ', ''))\n",
    "df_clean = df_clean.withColumn('PERSONA_CLEAN', F.regexp_replace('PERSONA_CLEAN', r'^DE LAS ', ''))\n",
    "df_clean = df_clean.withColumn('PERSONA_CLEAN', F.regexp_replace('PERSONA_CLEAN', r'^DE ', ''))\n",
    "df_clean = df_clean.withColumn('PERSONA_CLEAN', F.regexp_replace('PERSONA_CLEAN', r'^LOS ', ''))\n",
    "df_clean = df_clean.withColumn('PERSONA_CLEAN', F.regexp_replace('PERSONA_CLEAN', r'^LA ', ''))\n",
    "df_clean = df_clean.withColumn('NUMERO_DOCUMENTO_CLEAN', F.regexp_replace('NUMERO_DOCUMENTO_CLEAN', r'^-', ''))\n",
    "df_clean = df_clean.withColumn('TIPO_DOCUMENTO', F.trim('TIPO_DOCUMENTO'))\n",
    "\n",
    "def count_chars(nombre):\n",
    "  if nombre is None :\n",
    "    return 0\n",
    "  else:\n",
    "    return len(nombre)\n",
    "\n",
    "count_chars_udf = udf(count_chars, IntegerType() )\n",
    "\n",
    "def count_words(nombre):\n",
    "  return len(nombre.split(\" \") )\n",
    "\n",
    "count_words_udf = udf(count_words, IntegerType() )\n",
    "\n",
    "def count_commas(nombre):\n",
    "  return len(nombre.split(\",\") )\n",
    "\n",
    "count_commas_udf = udf(count_commas, IntegerType() )\n",
    "\n",
    "def classify_type(tipo_documento):\n",
    "  if ( tipo_documento == \"E\" or tipo_documento == \"P\" ):\n",
    "    return \"EXTRANJERO\"\n",
    "  else:\n",
    "    return \"NACIONAL\"\n",
    "\n",
    "classify_types_udf = udf(classify_type, StringType() )\n",
    "\n",
    "#  Notas: hay algunas personas que separan apellido y nombre usando una coma \n",
    "df_clean = df_clean.withColumn(\"NUMERO_DOCUMENTO_CLEAN_LEN\", count_chars_udf(df_clean.NUMERO_DOCUMENTO_CLEAN)  )\n",
    "df_clean = df_clean.withColumn(\"persona_num_words\", count_words_udf(df_clean.PERSONA_CLEAN)  )\n",
    "df_clean = df_clean.withColumn(\"persona_num_commas\", count_commas_udf(df_clean.PERSONA_CLEAN)  )\n",
    "df_clean = df_clean.withColumn(\"TIPO\", classify_types_udf(df_clean.TIPO_DOCUMENTO)  )\n",
    "#df_clean.show(truncate=False) \n",
    "\n",
    "display(df_clean)\n",
    "#df_clean.show(truncate=False)"
   ]
  },
  {
   "cell_type": "code",
   "execution_count": null,
   "metadata": {
    "application/vnd.databricks.v1+cell": {
     "inputWidgets": {},
     "nuid": "95882f6c-7b0c-48c6-88de-435a2c249876",
     "showTitle": false,
     "title": ""
    }
   },
   "outputs": [],
   "source": [
    "profile = ProfileReport(df_clean.select(\"*\").toPandas(), title=\"Pandas Profiling Report - SNR Intervinientes sin duplicados clean\")\n",
    "dbutils.fs.put(\"abfss://standarized@stupramonitoreomercado.dfs.core.windows.net/OTROS/SNR/intervinientes_sin_duplicados_clean.parquet_profile.html\", profile.to_html() )"
   ]
  },
  {
   "cell_type": "code",
   "execution_count": null,
   "metadata": {
    "application/vnd.databricks.v1+cell": {
     "inputWidgets": {},
     "nuid": "0286cab5-1272-4095-beff-8e5cd5483683",
     "showTitle": false,
     "title": ""
    }
   },
   "outputs": [],
   "source": [
    "df_clean.createOrReplaceTempView(\"intervinientes_clean\")"
   ]
  },
  {
   "cell_type": "code",
   "execution_count": null,
   "metadata": {
    "application/vnd.databricks.v1+cell": {
     "inputWidgets": {},
     "nuid": "a3a88b5a-fb6f-4296-8cbb-b25be75cee00",
     "showTitle": false,
     "title": ""
    }
   },
   "outputs": [],
   "source": [
    "df_validar = spark.sql(\"\"\"\n",
    "select TIPO_DOCUMENTO, NUMERO_DOCUMENTO_CLEAN_LEN, count(id) as conteo\n",
    "from intervinientes_clean  where TIPO = \"NACIONAL\"\n",
    "group by TIPO_DOCUMENTO, NUMERO_DOCUMENTO_CLEAN_LEN\n",
    "order by TIPO_DOCUMENTO, NUMERO_DOCUMENTO_CLEAN_LEN\n",
    "\"\"\")\n",
    "#df_validar.show()\n",
    "df_validar.display()"
   ]
  },
  {
   "cell_type": "code",
   "execution_count": null,
   "metadata": {
    "application/vnd.databricks.v1+cell": {
     "inputWidgets": {},
     "nuid": "4cc999d6-abaa-4eae-b938-d55c8c7d850c",
     "showTitle": false,
     "title": ""
    }
   },
   "outputs": [],
   "source": [
    "df_validar = spark.sql(\"\"\"\n",
    "select TIPO_DOCUMENTO, PERSONA_CLEAN, NUMERO_DOCUMENTO_CLEAN,\n",
    "NUMERO_DOCUMENTO_CLEAN_LEN,\n",
    "persona_num_words,\n",
    "persona_num_commas\n",
    "from intervinientes_clean\n",
    "where TIPO_DOCUMENTO = 'P' and  NUMERO_DOCUMENTO_CLEAN_LEN > -1\n",
    "order by NUMERO_DOCUMENTO_CLEAN_LEN asc, NUMERO_DOCUMENTO_CLEAN asc \n",
    "\"\"\")\n",
    "#df_validar.show()\n",
    "df_validar.display()"
   ]
  },
  {
   "cell_type": "code",
   "execution_count": null,
   "metadata": {
    "application/vnd.databricks.v1+cell": {
     "inputWidgets": {},
     "nuid": "0544a093-62c6-408f-b48a-8f541206c776",
     "showTitle": true,
     "title": "Clasificar por sexo según rango de cédulas"
    }
   },
   "outputs": [],
   "source": [
    "df_clasificar_sexo = spark.sql(\"\"\"\n",
    "select id , PERSONA_CLEAN, NUMERO_DOCUMENTO_CLEAN\n",
    "from intervinientes_clean\n",
    "where TIPO_DOCUMENTO = 'C' and  NUMERO_DOCUMENTO_CLEAN_LEN < 9\n",
    "\"\"\")\n",
    "#df_validar.show()\n",
    "df_clasificar_sexo = df_clasificar_sexo.withColumn(\"NUMERO_DOCUMENTO_CLEAN_INTEGER\", df_clasificar_sexo.NUMERO_DOCUMENTO_CLEAN.cast('INTEGER'))\n",
    "df_clasificar_sexo.display()"
   ]
  },
  {
   "cell_type": "code",
   "execution_count": null,
   "metadata": {
    "application/vnd.databricks.v1+cell": {
     "inputWidgets": {},
     "nuid": "d54dd1ac-5c44-4e27-99a3-e9abe796c76d",
     "showTitle": false,
     "title": ""
    }
   },
   "outputs": [],
   "source": [
    "df_clasificar_sexo.printSchema()"
   ]
  },
  {
   "cell_type": "code",
   "execution_count": null,
   "metadata": {
    "application/vnd.databricks.v1+cell": {
     "inputWidgets": {},
     "nuid": "ce12749d-48d6-42c1-b8fe-55efa168cb53",
     "showTitle": false,
     "title": ""
    }
   },
   "outputs": [],
   "source": [
    "# MASCULINO hombres eran del 001 hasta el 19.999.999, después solicitaron un  nuevo cupo que inicio en el  70.000.001 al 99.999.999.  \n",
    "# FEMENINO 20000001 hasta el 69999999, \n",
    "\n",
    "def classify_sex(num_documento):\n",
    "  if ( ( num_documento >= 20000000) &  ( num_documento <=  69999999 ) ):\n",
    "    return \"FEMENINO\"\n",
    "  else:\n",
    "    return \"MASCULINO\"\n",
    "\n",
    "classify_sex_udf = udf(classify_sex, StringType() )\n",
    "\n",
    "#  Notas: hay algunas personas que separan apellido y nombre usando una coma \n",
    "df_clasificar_sexo = df_clasificar_sexo.withColumn(\"SEXO\", classify_sex_udf(df_clasificar_sexo.NUMERO_DOCUMENTO_CLEAN_INTEGER)  )\n",
    "df_clasificar_sexo.display()"
   ]
  },
  {
   "cell_type": "code",
   "execution_count": null,
   "metadata": {
    "application/vnd.databricks.v1+cell": {
     "inputWidgets": {},
     "nuid": "fd6542d4-c1b1-4c11-bf58-d7efb4777bcc",
     "showTitle": false,
     "title": ""
    }
   },
   "outputs": [],
   "source": [
    "df_clasificar_sexo_for_join =  df_clasificar_sexo.select(\"id\",\"SEXO\")\n",
    "df_clasificar_sexo_for_join = df_clasificar_sexo_for_join.withColumnRenamed(\"id\", \"fk\")\n",
    "df_clasificar_sexo_for_join.show()"
   ]
  },
  {
   "cell_type": "code",
   "execution_count": null,
   "metadata": {
    "application/vnd.databricks.v1+cell": {
     "inputWidgets": {},
     "nuid": "4c2dbaf4-2e08-4d71-90c9-cfd5063b34a9",
     "showTitle": false,
     "title": ""
    }
   },
   "outputs": [],
   "source": [
    "df_clean_join_sex = df_clean.join(df_clasificar_sexo_for_join, df_clean.id == df_clasificar_sexo_for_join.fk,   how='left') \n",
    "df_clean_join_sex = df_clean_join_sex.drop(\"RANGOS_CEDULA_SEXO\")\n",
    "df_clean_join_sex = df_clean_join_sex.drop(\"fk\")\n",
    "display(df_clean_join_sex) "
   ]
  },
  {
   "cell_type": "code",
   "execution_count": null,
   "metadata": {
    "application/vnd.databricks.v1+cell": {
     "inputWidgets": {},
     "nuid": "9e555d0b-761d-4fd2-b47f-efe216214b0d",
     "showTitle": false,
     "title": ""
    }
   },
   "outputs": [],
   "source": [
    "df_clean_join_sex.printSchema()"
   ]
  },
  {
   "cell_type": "code",
   "execution_count": null,
   "metadata": {
    "application/vnd.databricks.v1+cell": {
     "inputWidgets": {},
     "nuid": "411fa6fa-c654-43bc-811c-be8d804c14dc",
     "showTitle": true,
     "title": "REGISTROS MARCADOS COMO CÉDULAS QUE EN REALIDAD SON EMPRESAS"
    }
   },
   "outputs": [],
   "source": [
    "# filtrar empresas\n",
    "# filtrar los que tienen TIPO_DOCUMENTO = 'C' and  NUMERO_DOCUMENTO_CLEAN_LEN = 9  y son empresas (palabras clave)\n",
    "# los nombres con muchas palabras (ejm. +20 ) son de empresas o copy paste de otros campos\n",
    "# A FAVOR SUYO SU CONYUGE O COMPAERO A PERMANENTE SUS HIJOS MENORES ACTUALES Y DE QUE LLEGARE A TENER TAMAYO\n",
    "# los  TIPO_DOCUMENTO = ''  pueden tener personas o empresas.  no tienen número de documento\n",
    "\n",
    "\n",
    "\n",
    "# clasificar por sexo los que no se pueden por rango:\n",
    "# no tener en cuenta los tipo \"E\", 'P' (Extranjería o pasaporte)   EXTRAnJERO\n",
    "# no tener en cuenta 'N' NIT ,   para la clasificación de sexo   Empresas\n",
    "# si incluir para clasificar por sexo 'R', 'C' , 'T'\n"
   ]
  },
  {
   "cell_type": "code",
   "execution_count": null,
   "metadata": {
    "application/vnd.databricks.v1+cell": {
     "inputWidgets": {},
     "nuid": "95e7941f-10d8-4e87-9c37-adf7991e4157",
     "showTitle": true,
     "title": "Listado de palabras más comunes presentes en nombres de empresas de Colombia"
    }
   },
   "outputs": [],
   "source": [
    "#df_palabras_comunes_empresas == df_pce\n",
    "df_pce = spark.read.json(\"abfss://standarized@stupramonitoreomercado.dfs.core.windows.net/OTROS/DATOS_GOV_CO/nit_palabras_comunes_filtradas.json\")\n",
    "df_pce = df_pce.select(\"word\")\n",
    "display(df_pce)"
   ]
  },
  {
   "cell_type": "code",
   "execution_count": null,
   "metadata": {
    "application/vnd.databricks.v1+cell": {
     "inputWidgets": {},
     "nuid": "ecfa5b7b-7d68-4214-b300-1a3d38f83405",
     "showTitle": false,
     "title": ""
    }
   },
   "outputs": [],
   "source": [
    "df_clean_join_sex.createOrReplaceTempView(\"intervinientes_sex\")\n",
    "df_pce.createOrReplaceTempView(\"pce\")"
   ]
  },
  {
   "cell_type": "code",
   "execution_count": null,
   "metadata": {
    "application/vnd.databricks.v1+cell": {
     "inputWidgets": {},
     "nuid": "233c2927-b431-45d9-8faf-9d91a76e9a74",
     "showTitle": false,
     "title": ""
    }
   },
   "outputs": [],
   "source": [
    "df_empresas_inferidas =   spark.sql(\"\"\"\n",
    "with words as ( \n",
    "SELECT id,  explode(  split(PERSONA_CLEAN, ' ') )  as word\n",
    "FROM intervinientes_sex\n",
    "where TIPO = 'NACIONAL' and TIPO_DOCUMENTO <> 'N'  )\n",
    "select distinct w.id as id_empresa\n",
    "from words as w inner join pce p on p.word = w.word\n",
    "\"\"\")\n",
    "display(df_empresas_inferidas)"
   ]
  },
  {
   "cell_type": "code",
   "execution_count": null,
   "metadata": {
    "application/vnd.databricks.v1+cell": {
     "inputWidgets": {},
     "nuid": "78bcf98f-d9f3-4b20-af48-182b48377496",
     "showTitle": false,
     "title": ""
    }
   },
   "outputs": [],
   "source": [
    "df_empresas_inferidas.count() # 729177  736787  738807"
   ]
  },
  {
   "cell_type": "code",
   "execution_count": null,
   "metadata": {
    "application/vnd.databricks.v1+cell": {
     "inputWidgets": {},
     "nuid": "32861ae0-a362-4649-8e20-00922513e137",
     "showTitle": false,
     "title": ""
    }
   },
   "outputs": [],
   "source": [
    "df_clean_join_sex_empresas = df_clean_join_sex.join(df_empresas_inferidas, df_clean_join_sex.id == df_empresas_inferidas.id_empresa,   how='left') \n",
    "#df_clean_join_sex = df_clean_join_sex.drop(\"RANGOS_CEDULA_SEXO\")\n",
    "#df_clean_join_sex = df_clean_join_sex.drop(\"fk\")\n",
    "display(df_clean_join_sex_empresas)"
   ]
  },
  {
   "cell_type": "code",
   "execution_count": null,
   "metadata": {
    "application/vnd.databricks.v1+cell": {
     "inputWidgets": {},
     "nuid": "90c873c3-bb5a-4ed5-801c-816bae07383f",
     "showTitle": false,
     "title": ""
    }
   },
   "outputs": [],
   "source": [
    "def classify_tipo_interviniente(tipo, tipo_documento, id_empresa ):\n",
    "  if ( tipo == \"NACIONAL\" ):\n",
    "    if (tipo_documento == \"N\" ):\n",
    "      return \"EMPRESA\"\n",
    "    if id_empresa is  None :\n",
    "      return \"PERSONA\"\n",
    "    else:\n",
    "      return \"EMPRESA\"\n",
    "  else:\n",
    "    return \"\"\n",
    "\n",
    "classify_tipo_interviniente_udf = udf(classify_tipo_interviniente, StringType() )\n",
    "\n",
    "#  Notas: hay algunas personas que separan apellido y nombre usando una coma \n",
    "df_clean_join_sex_empresas = df_clean_join_sex_empresas.withColumn(\"TIPO_INTERVINENTE\",\n",
    "                           classify_tipo_interviniente_udf(df_clean_join_sex_empresas.TIPO, \n",
    "                                                           df_clean_join_sex_empresas.TIPO_DOCUMENTO  , \n",
    "                                                           df_clean_join_sex_empresas.id_empresa  )  )\n",
    "df_clean_join_sex_empresas.display()"
   ]
  },
  {
   "cell_type": "code",
   "execution_count": null,
   "metadata": {
    "application/vnd.databricks.v1+cell": {
     "inputWidgets": {},
     "nuid": "3e1f1a15-31f5-40f9-bde3-28255a66d601",
     "showTitle": true,
     "title": "Procesar nombres"
    }
   },
   "outputs": [],
   "source": [
    "df_clean_join_sex_empresas.createOrReplaceTempView(\"intervinientes_sex_empresas\")\n",
    "\n",
    "df_personas_procesar  = spark.sql(\"\"\"\n",
    "SELECT id, PERSONA_CLEAN, persona_num_words, persona_num_commas\n",
    "FROM intervinientes_sex_empresas\n",
    "where TIPO_INTERVINENTE = 'PERSONA' \n",
    "\"\"\")\n",
    "\n",
    "df_personas_procesar.count()  # 4221483  4219463\n"
   ]
  },
  {
   "cell_type": "code",
   "execution_count": null,
   "metadata": {
    "application/vnd.databricks.v1+cell": {
     "inputWidgets": {},
     "nuid": "e9e83f87-32d1-4175-91ac-bdbe3af5104e",
     "showTitle": false,
     "title": ""
    }
   },
   "outputs": [],
   "source": [
    "df_personas_procesar.show(truncate=False) "
   ]
  },
  {
   "cell_type": "code",
   "execution_count": null,
   "metadata": {
    "application/vnd.databricks.v1+cell": {
     "inputWidgets": {},
     "nuid": "cae8533d-d7a1-4b94-a794-0888f03eeb8e",
     "showTitle": false,
     "title": ""
    }
   },
   "outputs": [],
   "source": [
    "df_personas_procesar.cache()"
   ]
  },
  {
   "cell_type": "code",
   "execution_count": null,
   "metadata": {
    "application/vnd.databricks.v1+cell": {
     "inputWidgets": {},
     "nuid": "526d0741-bc54-4741-851d-3ef4bc07eeaf",
     "showTitle": false,
     "title": ""
    }
   },
   "outputs": [],
   "source": [
    "df_personas_procesar.createOrReplaceTempView(\"personas_procesar\")\n",
    "\n"
   ]
  },
  {
   "cell_type": "code",
   "execution_count": null,
   "metadata": {
    "application/vnd.databricks.v1+cell": {
     "inputWidgets": {},
     "nuid": "19e62d39-f7dd-4f45-9767-fbad09caa998",
     "showTitle": true,
     "title": "Caso persona_num_parts = 2 :    Apellido Nombre"
    }
   },
   "outputs": [],
   "source": [
    "df_apellido_nombre =  spark.sql(\"\"\"\n",
    "SELECT * \n",
    "FROM personas_procesar\n",
    "where  persona_num_words = 2\n",
    "\"\"\")\n",
    "\n",
    "split_col = F.split(df_apellido_nombre['PERSONA_CLEAN'], ' ')\n",
    "df_apellido_nombre = df_apellido_nombre.withColumn('APELLIDOS', split_col.getItem(0))\n",
    "df_apellido_nombre = df_apellido_nombre.withColumn('NOMBRES', split_col.getItem(1))\n",
    "df_apellido_nombre.show(n= 10, truncate=False) \n"
   ]
  },
  {
   "cell_type": "code",
   "execution_count": null,
   "metadata": {
    "application/vnd.databricks.v1+cell": {
     "inputWidgets": {},
     "nuid": "ce1c7a8d-ca86-412a-92b6-6d2e8f3b140f",
     "showTitle": true,
     "title": "Caso persona_num_parts >= 3 :    Apellido Nombre(s)"
    }
   },
   "outputs": [],
   "source": [
    "df_apellido_multi_nombre =  spark.sql(\"\"\"\n",
    "SELECT * \n",
    "FROM personas_procesar\n",
    "where  persona_num_words > 2 and persona_num_commas = 1\n",
    "\"\"\")\n",
    "\n",
    "split_col = F.split(df_apellido_multi_nombre['PERSONA_CLEAN'], '^(?:\\S+\\s){1}(\\S+)'   )\n",
    "df_apellido_multi_nombre = df_apellido_multi_nombre.withColumn(\"APELLIDOS\", F.regexp_extract(df_apellido_multi_nombre.PERSONA_CLEAN, \"([\\w]+\\s){2}\", 0))\n",
    "df_apellido_multi_nombre = df_apellido_multi_nombre.withColumn('NOMBRES', split_col.getItem(1)  )\n",
    "df_apellido_multi_nombre.show(n= 10, truncate=False) \n"
   ]
  },
  {
   "cell_type": "code",
   "execution_count": null,
   "metadata": {
    "application/vnd.databricks.v1+cell": {
     "inputWidgets": {},
     "nuid": "d694b18a-0225-4bce-9933-cee182c3b7d4",
     "showTitle": true,
     "title": "Caso Apellidos (,) Nombres"
    }
   },
   "outputs": [],
   "source": [
    "# se ignoran los nombres con más de 3 \",\"\n",
    "\n",
    "df_apellido_sep_nombre =   spark.sql(\"\"\"\n",
    "SELECT *\n",
    "FROM personas_procesar\n",
    "where  persona_num_commas = 2\n",
    "\"\"\")\n",
    "split_col = F.split(df_apellido_sep_nombre['PERSONA_CLEAN'], ',')\n",
    "df_apellido_sep_nombre = df_apellido_sep_nombre.withColumn('APELLIDOS', split_col.getItem(0))\n",
    "df_apellido_sep_nombre = df_apellido_sep_nombre.withColumn('NOMBRES', split_col.getItem(1))\n",
    "df_apellido_sep_nombre.show(n= 10, truncate=False) "
   ]
  },
  {
   "cell_type": "code",
   "execution_count": null,
   "metadata": {
    "application/vnd.databricks.v1+cell": {
     "inputWidgets": {},
     "nuid": "459374c1-df94-4b52-951c-088b1815c81f",
     "showTitle": true,
     "title": "Unir todos los dataframes que contienen apellidos Nombres"
    }
   },
   "outputs": [],
   "source": [
    "df_all_nombres = df_apellido_nombre.union(df_apellido_multi_nombre).union(df_apellido_sep_nombre)\n",
    "#df_all_nombres.count() # 4286067\n",
    "df_all_nombres.show(n= 10, truncate=False) "
   ]
  },
  {
   "cell_type": "code",
   "execution_count": null,
   "metadata": {
    "application/vnd.databricks.v1+cell": {
     "inputWidgets": {},
     "nuid": "654a3d38-7e39-42e0-89f5-4c3fd4659eff",
     "showTitle": false,
     "title": ""
    }
   },
   "outputs": [],
   "source": [
    "df_all_nombres_for_join = df_all_nombres.select(\"id\", \"APELLIDOS\", \"NOMBRES\" )\n",
    "df_all_nombres_for_join = df_all_nombres_for_join.withColumn('APELLIDOS', F.trim(  df_all_nombres_for_join.APELLIDOS  )   )\n",
    "df_all_nombres_for_join = df_all_nombres_for_join.withColumn('NOMBRES', F.trim(  df_all_nombres_for_join.NOMBRES  )   )\n",
    "df_all_nombres_for_join = df_all_nombres_for_join.withColumn(\"PRIMER_NOMBRE\", F.regexp_extract(df_all_nombres_for_join.NOMBRES, \"(\\w+)\", 0))\n",
    "df_all_nombres_for_join = df_all_nombres_for_join.withColumn(\"PRIMER_NOMBRE_ULT_LETR\", F.regexp_extract(df_all_nombres_for_join.PRIMER_NOMBRE, \"\\w{1}$\", 0))\n",
    "df_all_nombres_for_join = df_all_nombres_for_join.withColumnRenamed(\"id\", \"fk\")\n",
    "display(df_all_nombres_for_join)"
   ]
  },
  {
   "cell_type": "code",
   "execution_count": null,
   "metadata": {
    "application/vnd.databricks.v1+cell": {
     "inputWidgets": {},
     "nuid": "cee731c1-a3f4-4ad0-98c9-bc0d9ee6d1fa",
     "showTitle": true,
     "title": "Join de dataframe principal con los nombres"
    }
   },
   "outputs": [],
   "source": [
    "df_clean_join_sex_empresas_nombres = df_clean_join_sex_empresas.join(df_all_nombres_for_join, \n",
    "                                                                     df_clean_join_sex_empresas.id == df_all_nombres_for_join.fk,   how='left') \n",
    "\n",
    "df_clean_join_sex_empresas_nombres = df_clean_join_sex_empresas_nombres.drop(\"fk\")\n",
    "display(df_clean_join_sex_empresas_nombres) "
   ]
  },
  {
   "cell_type": "code",
   "execution_count": null,
   "metadata": {
    "application/vnd.databricks.v1+cell": {
     "inputWidgets": {},
     "nuid": "df276ba1-5ab4-48ce-bfb4-7bfaa9960df4",
     "showTitle": false,
     "title": ""
    }
   },
   "outputs": [],
   "source": [
    "df_clean_join_sex_empresas_nombres.write.parquet(\"abfss://standarized@stupramonitoreomercado.dfs.core.windows.net/OTROS/SNR/intervinientes_sexo_nombres.parquet\")\n",
    "profile = ProfileReport(df_clean_join_sex_empresas_nombres.select(\"*\").toPandas(), title=\"Pandas Profiling Report - SNR Intervinientes Clasificados por Sexo\")\n",
    "dbutils.fs.put(\"abfss://standarized@stupramonitoreomercado.dfs.core.windows.net/OTROS/SNR/intervinientes_sexo_nombres.parquet_profile.html\", profile.to_html() )"
   ]
  },
  {
   "cell_type": "code",
   "execution_count": null,
   "metadata": {
    "application/vnd.databricks.v1+cell": {
     "inputWidgets": {},
     "nuid": "eb5a4fde-1e0b-43a6-8f83-6a477d373a86",
     "showTitle": false,
     "title": ""
    }
   },
   "outputs": [],
   "source": []
  },
  {
   "cell_type": "code",
   "execution_count": null,
   "metadata": {
    "application/vnd.databricks.v1+cell": {
     "inputWidgets": {},
     "nuid": "6492c894-f025-40ba-8e12-1a1673223d3b",
     "showTitle": false,
     "title": ""
    }
   },
   "outputs": [],
   "source": []
  },
  {
   "cell_type": "code",
   "execution_count": null,
   "metadata": {
    "application/vnd.databricks.v1+cell": {
     "inputWidgets": {},
     "nuid": "70cdb323-f8d0-4d32-a80a-8a376d2cedba",
     "showTitle": true,
     "title": "Pruebas de conteos anteriores al ETL "
    }
   },
   "outputs": [],
   "source": [
    "df_interv = spark.read.parquet(\"abfss://standarized@stupramonitoreomercado.dfs.core.windows.net/OTROS/SNR/intervinientes_sexo_nombres.parquet\")\n",
    "df_interv.printSchema()"
   ]
  },
  {
   "cell_type": "code",
   "execution_count": null,
   "metadata": {
    "application/vnd.databricks.v1+cell": {
     "inputWidgets": {},
     "nuid": "8fed7a24-f141-4d0f-894e-99b7dd06dc4c",
     "showTitle": false,
     "title": ""
    }
   },
   "outputs": [],
   "source": [
    "df_interv.createOrReplaceTempView(\"intervinientes\")"
   ]
  },
  {
   "cell_type": "code",
   "execution_count": null,
   "metadata": {
    "application/vnd.databricks.v1+cell": {
     "inputWidgets": {},
     "nuid": "4e67fb1b-3a9c-4ae9-b6c9-d1625e5656e9",
     "showTitle": true,
     "title": "Conteo de nombres por cantidad de palabras"
    }
   },
   "outputs": [],
   "source": [
    "df_export = spark.sql(\"\"\"\n",
    "with t as (\n",
    "  select count(*) as total from intervinientes where TIPO_INTERVINENTE = 'PERSONA' and SEXO = 'MASCULINO' \n",
    "), f as ( \n",
    "  SELECT SEXO, PRIMER_NOMBRE, count(*) AS frecuencia \n",
    "  FROM intervinientes as i  \n",
    "  where i.TIPO_INTERVINENTE = 'PERSONA' and  i.SEXO = 'MASCULINO'\n",
    "  group by SEXO, PRIMER_NOMBRE \n",
    ")\n",
    "select  f.SEXO, f.PRIMER_NOMBRE, f.frecuencia, f.frecuencia / t.total as prob\n",
    "from f , t\n",
    "order by f.SEXO ASC , f.frecuencia DESC \n",
    "\n",
    "\n",
    "\n",
    "\"\"\")\n",
    "display(df_export) "
   ]
  },
  {
   "cell_type": "code",
   "execution_count": null,
   "metadata": {
    "application/vnd.databricks.v1+cell": {
     "inputWidgets": {},
     "nuid": "097e53a6-4846-441e-98ec-2a704c6ecee3",
     "showTitle": true,
     "title": "Conteo de nombres por cantidad de palabras"
    }
   },
   "outputs": [],
   "source": [
    "df_export2 = spark.sql(\"\"\"\n",
    "with t as (\n",
    "  select count(*) as total from intervinientes where TIPO_INTERVINENTE = 'PERSONA' and SEXO = 'FEMENINO' \n",
    "), f as ( \n",
    "  SELECT SEXO, PRIMER_NOMBRE, count(*) AS frecuencia \n",
    "  FROM intervinientes as i  \n",
    "  where i.TIPO_INTERVINENTE = 'PERSONA' and  i.SEXO = 'FEMENINO'\n",
    "  group by SEXO, PRIMER_NOMBRE \n",
    ")\n",
    "select  f.SEXO, f.PRIMER_NOMBRE, f.frecuencia, f.frecuencia / t.total as prob\n",
    "from f , t\n",
    "order by f.SEXO ASC , f.frecuencia DESC \n",
    "\n",
    "\n",
    "\n",
    "\"\"\")\n",
    "display(df_export2) "
   ]
  },
  {
   "cell_type": "code",
   "execution_count": null,
   "metadata": {
    "application/vnd.databricks.v1+cell": {
     "inputWidgets": {},
     "nuid": "0511c4f6-65da-4d56-bad0-3d6eb39c4c6b",
     "showTitle": false,
     "title": ""
    }
   },
   "outputs": [],
   "source": [
    "df_export_all = df_export.union(df_export2)\n",
    "df_export_all.coalesce(1).write.json(\"abfss://sandbox@stupramonitoreomercado.dfs.core.windows.net/OTROS/SNR/sexo_nombre_prob.json\")"
   ]
  },
  {
   "cell_type": "code",
   "execution_count": null,
   "metadata": {
    "application/vnd.databricks.v1+cell": {
     "inputWidgets": {},
     "nuid": "0944fbc4-0e76-4df5-9ae5-74e5fdab94c0",
     "showTitle": true,
     "title": "nombres por clasificar "
    }
   },
   "outputs": [],
   "source": [
    "df_export = spark.sql(\"\"\"\n",
    "SELECT PRIMER_NOMBRE, count(*) AS TOTAL \n",
    "FROM intervinientes  \n",
    "where TIPO_INTERVINENTE = 'PERSONA' and SEXO IS NULL\n",
    "group by PRIMER_NOMBRE \n",
    "order by  count(*) DESC , PRIMER_NOMBRE ASC \n",
    "\"\"\")\n",
    "display(df_export) "
   ]
  },
  {
   "cell_type": "code",
   "execution_count": null,
   "metadata": {
    "application/vnd.databricks.v1+cell": {
     "inputWidgets": {},
     "nuid": "c6443e0a-d411-4119-bfbb-4269293b3dbe",
     "showTitle": false,
     "title": ""
    }
   },
   "outputs": [],
   "source": [
    "df_export.coalesce(1).write.json(\"abfss://sandbox@stupramonitoreomercado.dfs.core.windows.net/OTROS/SNR/nombres_para_clasificar.json\")"
   ]
  },
  {
   "cell_type": "code",
   "execution_count": null,
   "metadata": {
    "application/vnd.databricks.v1+cell": {
     "inputWidgets": {},
     "nuid": "2c995520-29b1-4fe9-aabe-ccc04eb78d7b",
     "showTitle": false,
     "title": ""
    }
   },
   "outputs": [],
   "source": [
    "df_export = spark.sql(\"\"\"\n",
    "with h as ( \n",
    "  SELECT PRIMER_NOMBRE, count(*) AS TOTAL \n",
    "  FROM intervinientes  \n",
    "  where TIPO_INTERVINENTE = 'PERSONA' and SEXO = 'MASCULINO'\n",
    "  group by PRIMER_NOMBRE\n",
    "  ) ,  f as (\n",
    "  SELECT PRIMER_NOMBRE, count(*) AS TOTAL \n",
    "  FROM intervinientes  \n",
    "  where TIPO_INTERVINENTE = 'PERSONA' and SEXO = 'FEMENINO'\n",
    "  group by PRIMER_NOMBRE\n",
    ")\n",
    "select h.PRIMER_NOMBRE, h.TOTAL AS TOTAL_HOMBRES, f.TOTAL as TOTAL_MUJERES\n",
    "from h inner join f on h.PRIMER_NOMBRE = f.PRIMER_NOMBRE\n",
    "ORDER BY h.TOTAL DESC, f.TOTAL desc \n",
    "\"\"\")\n",
    "display(df_export) "
   ]
  },
  {
   "cell_type": "code",
   "execution_count": null,
   "metadata": {
    "application/vnd.databricks.v1+cell": {
     "inputWidgets": {},
     "nuid": "138e0cbb-15f3-492c-a623-0764457ef880",
     "showTitle": false,
     "title": ""
    }
   },
   "outputs": [],
   "source": [
    "df_export.coalesce(1).write.json(\"abfss://sandbox@stupramonitoreomercado.dfs.core.windows.net/OTROS/SNR/nombres_comunes_masculino_femenino.json\")"
   ]
  },
  {
   "cell_type": "code",
   "execution_count": null,
   "metadata": {
    "application/vnd.databricks.v1+cell": {
     "inputWidgets": {},
     "nuid": "ea92920e-4217-4b59-a6b2-7ea99bfb360d",
     "showTitle": false,
     "title": ""
    }
   },
   "outputs": [],
   "source": [
    "df_export = spark.sql(\"\"\"\n",
    "\n",
    "SELECT SEXO, PRIMER_NOMBRE_ULT_LETR, count(*) AS TOTAL \n",
    "FROM intervinientes  \n",
    "where TIPO_INTERVINENTE = 'PERSONA' and SEXO IS NOT NULL\n",
    "group by SEXO, PRIMER_NOMBRE_ULT_LETR\n",
    "ORDER BY SEXO , COUNT(*) DESC\n",
    "  \"\"\")\n",
    "\n",
    "display(df_export) "
   ]
  },
  {
   "cell_type": "code",
   "execution_count": null,
   "metadata": {
    "application/vnd.databricks.v1+cell": {
     "inputWidgets": {},
     "nuid": "0297ec3d-dcfb-41c4-b3e4-35f70ebb2b2d",
     "showTitle": false,
     "title": ""
    }
   },
   "outputs": [],
   "source": [
    "df_export.coalesce(1).write.json(\"abfss://sandbox@stupramonitoreomercado.dfs.core.windows.net/OTROS/SNR/sexo_ultima_letra.json\")"
   ]
  },
  {
   "cell_type": "code",
   "execution_count": null,
   "metadata": {
    "application/vnd.databricks.v1+cell": {
     "inputWidgets": {},
     "nuid": "e1f281b1-8de6-4407-8d67-84630cdab370",
     "showTitle": false,
     "title": ""
    }
   },
   "outputs": [],
   "source": []
  }
 ],
 "metadata": {
  "application/vnd.databricks.v1+notebook": {
   "dashboards": [],
   "language": "python",
   "notebookName": "ETL_SNR_Intervinientes_Clean",
   "notebookOrigID": 4346587420968110,
   "widgets": {}
  },
  "kernelspec": {
   "display_name": "Python 3",
   "language": "python",
   "name": "python3"
  },
  "language_info": {
   "codemirror_mode": {
    "name": "ipython",
    "version": 3
   },
   "file_extension": ".py",
   "mimetype": "text/x-python",
   "name": "python",
   "nbconvert_exporter": "python",
   "pygments_lexer": "ipython3",
   "version": "3.8.5"
  }
 },
 "nbformat": 4,
 "nbformat_minor": 4
}
