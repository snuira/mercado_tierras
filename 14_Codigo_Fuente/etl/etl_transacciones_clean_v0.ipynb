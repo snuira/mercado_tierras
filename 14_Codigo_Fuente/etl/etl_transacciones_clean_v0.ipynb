{
 "cells": [
  {
   "cell_type": "code",
   "execution_count": null,
   "metadata": {
    "application/vnd.databricks.v1+cell": {
     "inputWidgets": {},
     "nuid": "45e54428-44af-404a-94d7-766d24e39968",
     "showTitle": false,
     "title": ""
    }
   },
   "outputs": [],
   "source": [
    "from pyspark.sql.types import *\n",
    "from pyspark.sql.functions import udf\n",
    "import pyspark.sql.functions as F\n",
    "\n",
    "import numpy as np\n",
    "import pandas as pd\n",
    "import pandas_profiling\n",
    "from pandas_profiling import ProfileReport\n",
    "pd.__version__\n"
   ]
  },
  {
   "cell_type": "code",
   "execution_count": null,
   "metadata": {
    "application/vnd.databricks.v1+cell": {
     "inputWidgets": {},
     "nuid": "c11ba22c-2a11-4e23-9380-5e0041cee129",
     "showTitle": true,
     "title": "Configure storage account key"
    }
   },
   "outputs": [],
   "source": [
    "spark.conf.set(\"fs.azure.account.key.stupramonitoreomercado.dfs.core.windows.net\", \"xxx\")\n",
    "spark.conf.set(\"fs.azure.createRemoteFileSystemDuringInitialization\", \"true\")\n",
    "dbutils.fs.ls(\"abfss://raw@stupramonitoreomercado.dfs.core.windows.net/\")\n",
    "spark.conf.set(\"fs.azure.createRemoteFileSystemDuringInitialization\", \"false\")\n",
    "#spark.conf.set(\"spark.sql.shuffle.partitions\",3000)\n",
    "#spark.conf.set(\"spark.default.parallelism\",3000)"
   ]
  },
  {
   "cell_type": "code",
   "execution_count": null,
   "metadata": {
    "application/vnd.databricks.v1+cell": {
     "inputWidgets": {},
     "nuid": "dfe8d642-33cd-4f95-80c2-862a9d1d1712",
     "showTitle": true,
     "title": "Leer datos desde el Data Lake"
    }
   },
   "outputs": [],
   "source": [
    "df = spark.read.parquet(\"abfss://standarized@stupramonitoreomercado.dfs.core.windows.net/OTROS/SNR/transacciones_v2.parquet\")\n",
    "#display(from_json(df2.select(\"col\"))\n",
    "display(df)"
   ]
  },
  {
   "cell_type": "code",
   "execution_count": null,
   "metadata": {
    "application/vnd.databricks.v1+cell": {
     "inputWidgets": {},
     "nuid": "a793a783-285b-4253-b473-5c90d4c2ea03",
     "showTitle": false,
     "title": ""
    }
   },
   "outputs": [],
   "source": [
    "df = df.withColumn(\"id\", F.monotonically_increasing_id())\n",
    "display(df)"
   ]
  },
  {
   "cell_type": "code",
   "execution_count": null,
   "metadata": {
    "application/vnd.databricks.v1+cell": {
     "inputWidgets": {},
     "nuid": "2587a8bc-6ebe-40e7-8aa5-357f8f52b3e8",
     "showTitle": false,
     "title": ""
    }
   },
   "outputs": [],
   "source": [
    "df.count()"
   ]
  },
  {
   "cell_type": "code",
   "execution_count": null,
   "metadata": {
    "application/vnd.databricks.v1+cell": {
     "inputWidgets": {},
     "nuid": "64de283b-53e2-48f9-b04a-10435b8c821d",
     "showTitle": false,
     "title": ""
    }
   },
   "outputs": [],
   "source": [
    "\n",
    "df.filter(df.LLAVE_COMP == \"27361184-129570126002015\").display()"
   ]
  },
  {
   "cell_type": "code",
   "execution_count": null,
   "metadata": {
    "application/vnd.databricks.v1+cell": {
     "inputWidgets": {},
     "nuid": "26395fee-b81e-4e6b-aee7-956e1b8a2530",
     "showTitle": false,
     "title": ""
    }
   },
   "outputs": [],
   "source": [
    "df.printSchema()"
   ]
  },
  {
   "cell_type": "code",
   "execution_count": null,
   "metadata": {
    "application/vnd.databricks.v1+cell": {
     "inputWidgets": {},
     "nuid": "e106a7ad-cd7e-4c74-a6af-f0b1218f7495",
     "showTitle": true,
     "title": "Generación de llave única"
    }
   },
   "outputs": [],
   "source": [
    "df.createOrReplaceTempView(\"archivo_rangos\")\n",
    "\n",
    "# divipola donde fue la transaccion + cod oficina orip + matricula inmobiliaria + num anotacion (hasta 5 digitos) +  cod nat juridica  \n",
    "df_key_transaccion = spark.sql(\"\"\"\n",
    "SELECT distinct  COD_DANE || '-' ||    lpad(split(MATRICULA, '-')[0], 3, '0')    || '-' || lpad( split(MATRICULA, '-')[1], 6, '0' )\n",
    "|| '-' ||  lpad( NRO_ANOTACION, 5, '0') || '-' || COD_NATURALEZA  as pk, \n",
    "COD_DANE, lpad(ORIP, 3, '0')  as ORIP , \n",
    "lpad(split(MATRICULA, '-')[0], 3, '0')   AS MATRICULA_ORIP,  lpad( split(MATRICULA, '-')[1], 6, '0' ) AS MATRICULA_NUMERO, \n",
    " lpad( NRO_ANOTACION, 5, '0') AS NRO_ANOTACION, COD_NATURALEZA, DEPARTAMENTO,  MUNICIPIO, VEREDA, TIPO_PREDIO, NATURALEZA_JURIDICA, DIRECCION, \n",
    " SISTEMA\n",
    "FROM archivo_rangos\n",
    "\"\"\")\n",
    "# No se pueden adicionar porque se duplican registros: NRO_PROPIETARIOS   , ANIO_RADICACION, ESTADO_FOLIO\n",
    "df_key_transaccion.display()\n",
    "\n"
   ]
  },
  {
   "cell_type": "code",
   "execution_count": null,
   "metadata": {
    "application/vnd.databricks.v1+cell": {
     "inputWidgets": {},
     "nuid": "cd7b24a7-453c-4e8f-b20d-36e804e4fb77",
     "showTitle": false,
     "title": ""
    }
   },
   "outputs": [],
   "source": [
    "df_key_transaccion.count()\n",
    "# 1631192"
   ]
  },
  {
   "cell_type": "code",
   "execution_count": null,
   "metadata": {
    "application/vnd.databricks.v1+cell": {
     "inputWidgets": {},
     "nuid": "cc1326ec-b581-46cc-8d29-d26dfd250ad9",
     "showTitle": false,
     "title": ""
    }
   },
   "outputs": [],
   "source": [
    "df_key_transaccion.write.parquet(\"abfss://standarized@stupramonitoreomercado.dfs.core.windows.net/OTROS/SNR/transacciones_principal.parquet\")"
   ]
  },
  {
   "cell_type": "code",
   "execution_count": null,
   "metadata": {
    "application/vnd.databricks.v1+cell": {
     "inputWidgets": {},
     "nuid": "22b3932a-8a5d-444f-95e5-bb5379acde1a",
     "showTitle": false,
     "title": ""
    }
   },
   "outputs": [],
   "source": [
    "\n",
    "profile = ProfileReport(df_key_transaccion.select(\"*\").toPandas() , title=\"Pandas Profiling Report - Transacciones inmobiliarias - Llave primaria\")\n",
    "#displayHTML(profile.to_html())\n",
    "dbutils.fs.put(\"abfss://standarized@stupramonitoreomercado.dfs.core.windows.net/OTROS/SNR/transacciones_principal.parquet_profile.html\", profile.to_html() )"
   ]
  },
  {
   "cell_type": "code",
   "execution_count": null,
   "metadata": {
    "application/vnd.databricks.v1+cell": {
     "inputWidgets": {},
     "nuid": "7223f896-c306-48fc-880c-ce0177be4b80",
     "showTitle": false,
     "title": ""
    }
   },
   "outputs": [],
   "source": [
    "df_key_transaccion.printSchema()"
   ]
  },
  {
   "cell_type": "code",
   "execution_count": null,
   "metadata": {
    "application/vnd.databricks.v1+cell": {
     "inputWidgets": {},
     "nuid": "61702452-2fcf-42e5-8dc2-50f330fb8994",
     "showTitle": false,
     "title": ""
    }
   },
   "outputs": [],
   "source": [
    "df_key_transaccion.createOrReplaceTempView(\"key_transaccion\")\n",
    "spark.sql(\"\"\"\n",
    "SELECT count(*)\n",
    "FROM key_transaccion  where ORIP <> MATRICULA_ORIP\n",
    "\"\"\").show()"
   ]
  },
  {
   "cell_type": "code",
   "execution_count": null,
   "metadata": {
    "application/vnd.databricks.v1+cell": {
     "inputWidgets": {},
     "nuid": "fe312753-9d77-49e8-9d83-f6f121366c08",
     "showTitle": false,
     "title": ""
    }
   },
   "outputs": [],
   "source": [
    "## TODO generar archivo con datos de las escrituras (valor, lindero)   NRO_PROPIETARIOS   , ANIO_RADICACION, ESTADO_FOLIO\n",
    "df_key_linderos = spark.sql(\"\"\"\n",
    "SELECT distinct  COD_DANE || '-' ||    lpad(split(MATRICULA, '-')[0], 3, '0')    || '-' || lpad( split(MATRICULA, '-')[1], 6, '0' )\n",
    "|| '-' ||  lpad( NRO_ANOTACION, 5, '0') || '-' || COD_NATURALEZA  as pk, \n",
    "ANIO_RADICACION\n",
    "FROM archivo_rangos\n",
    "\"\"\")  \n",
    "df_key_linderos.count()\n",
    "\n",
    "#  1631192  LINDERO\n",
    "#  1631201  ANIO_RADICACION \n",
    "#  1631213  LINDERO, VALOR\n",
    "#  1631218  NRO_PROPIETARIOS,  ANIO_RADICACION, ESTADO_FOLIO, , ANIO_RADICACION, \n",
    "#  1631218  LINDERO, VALOR, ANIO_RADICACION, ESTADO_FOLIO\n"
   ]
  },
  {
   "cell_type": "code",
   "execution_count": null,
   "metadata": {
    "application/vnd.databricks.v1+cell": {
     "inputWidgets": {},
     "nuid": "ed0e2f18-7094-4c3b-ac2b-b9ea43079642",
     "showTitle": false,
     "title": ""
    }
   },
   "outputs": [],
   "source": [
    "df_dir_common = df.withColumn('word', F.explode(F.split(F.col('LINDERO'), ' ')))\\\n",
    "    .groupBy('word')\\\n",
    "    .count()\\\n",
    "    .sort('count', ascending=False)\n",
    "\n",
    "df_dir_common.show()"
   ]
  },
  {
   "cell_type": "code",
   "execution_count": null,
   "metadata": {
    "application/vnd.databricks.v1+cell": {
     "inputWidgets": {},
     "nuid": "424f17af-8a6b-4354-b466-05603b0f54bf",
     "showTitle": false,
     "title": ""
    }
   },
   "outputs": [],
   "source": [
    "df_dir_common.coalesce(1).write.json(\"abfss://sandbox@stupramonitoreomercado.dfs.core.windows.net/OTROS/SNR/palabras_comunes_linderos.json\")"
   ]
  },
  {
   "cell_type": "code",
   "execution_count": null,
   "metadata": {
    "application/vnd.databricks.v1+cell": {
     "inputWidgets": {},
     "nuid": "6b61242d-a761-4468-b390-bba0586d76ee",
     "showTitle": false,
     "title": ""
    }
   },
   "outputs": [],
   "source": [
    "df_sin_informacion = df.filter(df.TIPO_PREDIO == \"SIN INFORMACION\")\n",
    "df_sin_informacion.count()"
   ]
  },
  {
   "cell_type": "code",
   "execution_count": null,
   "metadata": {
    "application/vnd.databricks.v1+cell": {
     "inputWidgets": {},
     "nuid": "1da408a2-1c1f-4d3d-be43-a690b8308068",
     "showTitle": false,
     "title": ""
    }
   },
   "outputs": [],
   "source": [
    "display(df_sin_informacion)"
   ]
  },
  {
   "cell_type": "code",
   "execution_count": null,
   "metadata": {
    "application/vnd.databricks.v1+cell": {
     "inputWidgets": {},
     "nuid": "800b65c3-2728-457b-ad49-a4873146769c",
     "showTitle": false,
     "title": ""
    }
   },
   "outputs": [],
   "source": [
    "df_sin_informacion.createOrReplaceTempView(\"t_sin_info\")\n",
    "df_clean =   spark.sql(\"\"\"\n",
    "SELECT  *,\n",
    " trim( regexp_replace(  regexp_replace( upper(DIRECCION),  ' +', ' ') ,  ',+', ','    ) )as DIRECCION_CLEAN  \n",
    "FROM t_sin_info\n",
    "\"\"\")"
   ]
  },
  {
   "cell_type": "code",
   "execution_count": null,
   "metadata": {
    "application/vnd.databricks.v1+cell": {
     "inputWidgets": {},
     "nuid": "9c9648fb-714d-4dc3-ab72-95056b17f2f4",
     "showTitle": false,
     "title": ""
    }
   },
   "outputs": [],
   "source": [
    "df_dir_common = df_clean.withColumn('word', F.explode(F.split(F.col('DIRECCION_CLEAN'), ' ')))\\\n",
    "    .groupBy('word')\\\n",
    "    .count()\\\n",
    "    .sort('count', ascending=False)\n",
    "\n",
    "df_dir_common.show()"
   ]
  },
  {
   "cell_type": "code",
   "execution_count": null,
   "metadata": {
    "application/vnd.databricks.v1+cell": {
     "inputWidgets": {},
     "nuid": "8271b90b-8fd4-4baf-800c-7279ec0bf6ad",
     "showTitle": false,
     "title": ""
    }
   },
   "outputs": [],
   "source": [
    "df_dir_common.coalesce(1).write.json(\"abfss://sandbox@stupramonitoreomercado.dfs.core.windows.net/OTROS/SNR/sin_info_dir_palabras_comunes.json\")"
   ]
  },
  {
   "cell_type": "code",
   "execution_count": null,
   "metadata": {
    "application/vnd.databricks.v1+cell": {
     "inputWidgets": {},
     "nuid": "ffd52a7a-c630-46de-8762-56f829cfe5a8",
     "showTitle": false,
     "title": ""
    }
   },
   "outputs": [],
   "source": [
    "df_clean2 = df_clean.filter(df_clean.DIRECCION_CLEAN.contains(\"CALLE\") == False)\n",
    "df_clean2 = df_clean2.filter(df_clean2.DIRECCION_CLEAN.contains(\"CARRERA\") == False)\n",
    "df_clean2 = df_clean2.filter(df_clean2.DIRECCION_CLEAN.contains(\"DIAGONAL\") == False)\n",
    "df_clean2 = df_clean2.filter(df_clean2.DIRECCION_CLEAN.contains(\"MANZANA\") == False)\n",
    "df_clean2 = df_clean2.filter(df_clean2.DIRECCION_CLEAN.contains(\"URBANIZACION\") == False)\n",
    "df_clean2 = df_clean2.filter(df_clean2.DIRECCION_CLEAN.contains(\"APARTAMENTO\") == False)\n",
    "df_clean2 = df_clean2.filter(df_clean2.DIRECCION_CLEAN.contains(\"EDIFICIO\") == False)\n",
    "df_clean2 = df_clean2.filter(df_clean2.DIRECCION_CLEAN.contains(\"BARRIO\") == False)\n",
    "df_clean2 = df_clean2.filter(df_clean2.DIRECCION_CLEAN.contains(\"CONJUNTO\") == False)\n",
    "df_clean2 = df_clean2.filter(df_clean2.DIRECCION_CLEAN.contains(\"HORIZONTAL\") == False)\n",
    "df_clean2 = df_clean2.filter(df_clean2.DIRECCION_CLEAN.contains(\"CEMENTERIO\") == False)\n",
    "df_clean2 = df_clean2.filter(df_clean2.DIRECCION_CLEAN.contains(\"TRANSVERSAL\") == False)\n",
    "df_clean2 = df_clean2.filter(df_clean2.DIRECCION_CLEAN.contains(\"P.H.\") == False)\n",
    "df_clean2 = df_clean2.filter(df_clean2.DIRECCION_CLEAN.contains(\"LOCAL\") == False)\n",
    "df_clean2 = df_clean2.filter(df_clean2.DIRECCION_CLEAN.contains(\"APTO\") == False)\n",
    "df_clean2 = df_clean2.filter(df_clean2.DIRECCION_CLEAN.contains(\"PARQUEADERO\") == False)\n",
    "\n",
    "\n",
    "# 51038\n",
    "# 46314  == \"Rural inferido\"\n",
    "# número de intervinientes \n",
    "#  Divipola_Mun_0001  = \"divipola_orip\"\n",
    "#  divipola donde fue la transaccion + cod oficina orip + matricula inmobiliaria + num anotacion (hasta 5 digitos) +  cod nat juridica  \n",
    "\n",
    "# zre_nombre == nombre orip\n",
    "\n",
    "# reporte: en cuales aparece área y por cada registro cuantas veces aparece la palabra área  en el campo lindero\n",
    "#  si aparece 1: esa es el área\n",
    "#  si aparece > de 1 :   (generar reporte para evaluar el patrón de texto ) \n",
    "\n",
    "# en detección de nombres primero ir a la fija,  luego filtrar los menos comunes para clasificar y los otros casos a manito\n",
    "# INCLUIR OTROS ATRIBUTOS COMO EL DEPARTAMENTO \n",
    "# PRIMER NOMBRE .. ES EL DETERMINANTE DEL GÉNERO\n",
    "\n",
    "df_clean2.count()"
   ]
  },
  {
   "cell_type": "code",
   "execution_count": null,
   "metadata": {
    "application/vnd.databricks.v1+cell": {
     "inputWidgets": {},
     "nuid": "02cae139-e55c-41ca-abf6-2b8b9bef4ea7",
     "showTitle": false,
     "title": ""
    }
   },
   "outputs": [],
   "source": [
    "df_dir_common = df_clean2.withColumn('word', F.explode(F.split(F.col('DIRECCION_CLEAN'), ' ')))\\\n",
    "    .groupBy('word')\\\n",
    "    .count()\\\n",
    "    .sort('count', ascending=False)\n",
    "\n",
    "df_dir_common.show()"
   ]
  },
  {
   "cell_type": "code",
   "execution_count": null,
   "metadata": {
    "application/vnd.databricks.v1+cell": {
     "inputWidgets": {},
     "nuid": "aeb2e2ea-33c9-454b-a2aa-0ae6f5af4908",
     "showTitle": false,
     "title": ""
    }
   },
   "outputs": [],
   "source": [
    "df_dir_common.coalesce(1).write.json(\"abfss://sandbox@stupramonitoreomercado.dfs.core.windows.net/OTROS/SNR/sin_info_dir_palabras_comunes3.json\")"
   ]
  },
  {
   "cell_type": "code",
   "execution_count": null,
   "metadata": {
    "application/vnd.databricks.v1+cell": {
     "inputWidgets": {},
     "nuid": "52d53dba-f5b8-42b3-9bc3-13e67015711e",
     "showTitle": false,
     "title": ""
    }
   },
   "outputs": [],
   "source": [
    "#no es necesario---\n",
    "#df_clean3 = df_clean2.filter( (df_clean2.DIRECCION_CLEAN.contains(\"CAMPESTRE\") == True )  |  (df_clean2.DIRECCION_CLEAN.contains(\"PARCELA\") == True ) )\n",
    "#df_dir_common = df_clean3.withColumn('word', F.explode(F.split(F.col('DIRECCION_CLEAN'), ' ')))\\\n",
    "#    .groupBy('word')\\\n",
    "#    .count()\\\n",
    "#    .sort('count', ascending=False)\n",
    "#df_dir_common.coalesce(1).write.json(\"abfss://sandbox@stupramonitoreomercado.dfs.core.windows.net/OTROS/SNR/sin_info_dir_palabras_comunes_rurales_3.json\")\n",
    "#df_clean3.count()"
   ]
  },
  {
   "cell_type": "code",
   "execution_count": null,
   "metadata": {
    "application/vnd.databricks.v1+cell": {
     "inputWidgets": {},
     "nuid": "c19593c3-198a-4350-8fae-6aff58b1ed3c",
     "showTitle": false,
     "title": ""
    }
   },
   "outputs": [],
   "source": [
    "#df_clean3.display()"
   ]
  },
  {
   "cell_type": "code",
   "execution_count": null,
   "metadata": {
    "application/vnd.databricks.v1+cell": {
     "inputWidgets": {},
     "nuid": "0a54bf47-d2f7-4798-a122-76cc7f0af755",
     "showTitle": false,
     "title": ""
    }
   },
   "outputs": [],
   "source": [
    "df1.createOrReplaceTempView(\"transacciones\")\n",
    "spark.sql(\"select * from transacciones \" ).show()"
   ]
  },
  {
   "cell_type": "code",
   "execution_count": null,
   "metadata": {
    "application/vnd.databricks.v1+cell": {
     "inputWidgets": {},
     "nuid": "72954121-1af6-4c13-967a-6cb7d94e6aed",
     "showTitle": true,
     "title": "remover duplicados"
    }
   },
   "outputs": [],
   "source": [
    "df2_sin_duplicados = df2.dropDuplicates()\n",
    "df2_sin_duplicados.count()"
   ]
  }
 ],
 "metadata": {
  "application/vnd.databricks.v1+notebook": {
   "dashboards": [],
   "language": "python",
   "notebookName": "ETL_SNR_Transacciones_Clean",
   "notebookOrigID": 2757144526315165,
   "widgets": {}
  },
  "kernelspec": {
   "display_name": "Python 3",
   "language": "python",
   "name": "python3"
  },
  "language_info": {
   "codemirror_mode": {
    "name": "ipython",
    "version": 3
   },
   "file_extension": ".py",
   "mimetype": "text/x-python",
   "name": "python",
   "nbconvert_exporter": "python",
   "pygments_lexer": "ipython3",
   "version": "3.8.5"
  }
 },
 "nbformat": 4,
 "nbformat_minor": 4
}
