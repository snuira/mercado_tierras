{
 "cells": [
  {
   "cell_type": "code",
   "execution_count": null,
   "metadata": {
    "application/vnd.databricks.v1+cell": {
     "inputWidgets": {},
     "nuid": "c11ba22c-2a11-4e23-9380-5e0041cee129",
     "showTitle": true,
     "title": "Configure storage account key"
    }
   },
   "outputs": [],
   "source": [
    "spark.conf.set(\"fs.azure.account.key.stupramonitoreomercado.dfs.core.windows.net\", \"xxx\")\n",
    "spark.conf.set(\"fs.azure.createRemoteFileSystemDuringInitialization\", \"true\")\n",
    "dbutils.fs.ls(\"abfss://raw@stupramonitoreomercado.dfs.core.windows.net/\")\n",
    "spark.conf.set(\"fs.azure.createRemoteFileSystemDuringInitialization\", \"false\")\n",
    "#spark.conf.set(\"spark.sql.shuffle.partitions\",3000)\n",
    "#spark.conf.set(\"spark.default.parallelism\",3000)"
   ]
  },
  {
   "cell_type": "code",
   "execution_count": null,
   "metadata": {
    "application/vnd.databricks.v1+cell": {
     "inputWidgets": {},
     "nuid": "0b397389-299f-4cb3-a69e-d110977cd274",
     "showTitle": true,
     "title": "List filesystem"
    }
   },
   "outputs": [],
   "source": [
    "dbutils.fs.ls(\"abfss://raw@stupramonitoreomercado.dfs.core.windows.net/OTROS/SNR/JSON/\")"
   ]
  },
  {
   "cell_type": "code",
   "execution_count": null,
   "metadata": {
    "application/vnd.databricks.v1+cell": {
     "inputWidgets": {},
     "nuid": "1f63c8a5-5743-400b-8ec6-954c276aad21",
     "showTitle": false,
     "title": ""
    }
   },
   "outputs": [],
   "source": [
    "dbutils.fs.head(\"abfss://raw@stupramonitoreomercado.dfs.core.windows.net/OTROS/SNR/JSON/RANGOS_AVALUOS.json\")"
   ]
  },
  {
   "cell_type": "code",
   "execution_count": null,
   "metadata": {
    "application/vnd.databricks.v1+cell": {
     "inputWidgets": {},
     "nuid": "48facf81-9536-4c65-b651-1c8ecedc5908",
     "showTitle": false,
     "title": ""
    }
   },
   "outputs": [],
   "source": [
    "from pyspark.sql.functions import *\n",
    "from pyspark.sql.types import *\n",
    "'''\n",
    "# https://spark.apache.org/docs/latest/sql-ref-datatypes.html\n",
    "\n",
    "'{\"SASJSONExport\":\"1.0\",\n",
    "\"SASTableData+RNAGOS_AVALUOS\":\n",
    "[{\"COD_DPTO\":\"05\",   \"COD_DANE\":\"05002\",   \"DEPARTAMENTO\":\"ANTIOQUIA\",   ...\n",
    "'''\n",
    "schema = StructType().add(\n",
    "  StructField(\"SASTableData+RNAGOS_AVALUOS\", ArrayType(\n",
    "      StructType([\n",
    "          StructField(\"COD_DPTO\", StringType()),   StructField(\"COD_DANE\", StringType()), StructField(\"DEPARTAMENTO\", StringType()), StructField(\"MUNICIPIO\", StringType()),\n",
    "          StructField(\"ORIP\", StringType()),   StructField(\"VEREDA\", StringType()),\n",
    "          StructField(\"MATRICULA\", StringType()),\n",
    "          StructField(\"TIPO_PREDIO\", StringType()),\n",
    "          StructField(\"NRO_ANOTACION\", StringType()),\n",
    "          StructField(\"COD_NATURALEZA\", StringType()),      StructField(\"NATURALEZA_JURIDICA\", StringType()),   StructField(\"VALOR\", StringType()),\n",
    "          StructField(\"DIRECCION\", StringType()),\n",
    "          StructField(\"Divipola_Mun_0001\", StringType()),\n",
    "          StructField(\"ZRE_NOMBRE\", StringType()),   StructField(\"SISTEMA\", StringType()),  StructField(\"NRO_PROPIETARIOS\", StringType()),\n",
    "          StructField(\"ESTADO_FOLIO\", StringType()),   StructField(\"AÑO RADICACION\", StringType()),  StructField(\"LINDERO\", StringType()),\n",
    "          StructField(\"SMMLV\", StringType()),   StructField(\"RANGOS_AVALUOS\", StringType())\n",
    "      ])\n",
    "   )\n",
    "))\n",
    "\n",
    "\n",
    "df1 = spark.read.json(\"abfss://raw@stupramonitoreomercado.dfs.core.windows.net/OTROS/SNR/JSON/RANGOS_AVALUOS.json\", schema=schema)"
   ]
  },
  {
   "cell_type": "code",
   "execution_count": null,
   "metadata": {
    "application/vnd.databricks.v1+cell": {
     "inputWidgets": {},
     "nuid": "d08793b0-d29b-4f2d-90e7-26957164cea6",
     "showTitle": false,
     "title": ""
    }
   },
   "outputs": [],
   "source": [
    "df1.count()"
   ]
  },
  {
   "cell_type": "code",
   "execution_count": null,
   "metadata": {
    "application/vnd.databricks.v1+cell": {
     "inputWidgets": {},
     "nuid": "254a6e5a-309e-41fc-b99a-45be9e14afe1",
     "showTitle": false,
     "title": ""
    }
   },
   "outputs": [],
   "source": [
    "df1.printSchema()"
   ]
  },
  {
   "cell_type": "code",
   "execution_count": null,
   "metadata": {
    "application/vnd.databricks.v1+cell": {
     "inputWidgets": {},
     "nuid": "0a54bf47-d2f7-4798-a122-76cc7f0af755",
     "showTitle": false,
     "title": ""
    }
   },
   "outputs": [],
   "source": [
    "#df1.createOrReplaceTempView(\"personas\")\n",
    "\n",
    "#spark.sql(\"select SASTableData+RANGOS_CEDULA from personas \" )"
   ]
  },
  {
   "cell_type": "code",
   "execution_count": null,
   "metadata": {
    "application/vnd.databricks.v1+cell": {
     "inputWidgets": {},
     "nuid": "a23ee9cd-e4dc-4d08-b402-c4f7ecd5f88e",
     "showTitle": false,
     "title": ""
    }
   },
   "outputs": [],
   "source": [
    "#rows = df1.select(  explode( \"SASTableData+RANGOS_CEDULA\" )) \n",
    "#rows = df1.select( explode(  array(\"SASTableData+RANGOS_CEDULA\").alias(\"row\")  ) ) \n",
    "\n",
    "rows = df1.select( explode(\"SASTableData+RNAGOS_AVALUOS\").alias(\"row\") )\n",
    "rows.count()"
   ]
  },
  {
   "cell_type": "code",
   "execution_count": null,
   "metadata": {
    "application/vnd.databricks.v1+cell": {
     "inputWidgets": {},
     "nuid": "82b4c1a1-a1d8-4a8d-8259-68290b070155",
     "showTitle": false,
     "title": ""
    }
   },
   "outputs": [],
   "source": [
    "rows.printSchema()"
   ]
  },
  {
   "cell_type": "code",
   "execution_count": null,
   "metadata": {
    "application/vnd.databricks.v1+cell": {
     "inputWidgets": {},
     "nuid": "034207b0-f0e5-493b-b27d-7658533b3e0f",
     "showTitle": false,
     "title": ""
    }
   },
   "outputs": [],
   "source": [
    "display(rows)"
   ]
  },
  {
   "cell_type": "code",
   "execution_count": null,
   "metadata": {
    "application/vnd.databricks.v1+cell": {
     "inputWidgets": {},
     "nuid": "72b1b8ed-04be-4f47-b6a6-e132697928fb",
     "showTitle": false,
     "title": ""
    }
   },
   "outputs": [],
   "source": [
    "rows.select( \"row.*\").show()"
   ]
  },
  {
   "cell_type": "code",
   "execution_count": null,
   "metadata": {
    "application/vnd.databricks.v1+cell": {
     "inputWidgets": {},
     "nuid": "fa4cef99-7ee0-4dce-bfac-a8b3f5223c55",
     "showTitle": false,
     "title": ""
    }
   },
   "outputs": [],
   "source": [
    "parsed_rows = rows.select( \"row.*\")"
   ]
  },
  {
   "cell_type": "code",
   "execution_count": null,
   "metadata": {
    "application/vnd.databricks.v1+cell": {
     "inputWidgets": {},
     "nuid": "6eb9c23c-c449-4810-9ee1-086089835b12",
     "showTitle": false,
     "title": ""
    }
   },
   "outputs": [],
   "source": [
    "parsed_rows_renamed = parsed_rows.withColumnRenamed(\"AÑO RADICACION\", \"ANIO_RADICACION\")\n",
    "#rows2.printSchema()\n",
    "#rows_renamed = parsed_rows.select(col('`AÑO RADICACION`').alias(\"ANIO_RADICACION\"))\n",
    "#rows_renamed = rows.select(col(\"AÑO RADICACION\").alias(\"ANIO_RADICACION\")).show()\n",
    "parsed_rows_renamed.printSchema()\n",
    "\n",
    "#rows.select(rows.columns[18]).show()"
   ]
  },
  {
   "cell_type": "code",
   "execution_count": null,
   "metadata": {
    "application/vnd.databricks.v1+cell": {
     "inputWidgets": {},
     "nuid": "8c1eb8b4-d127-4389-be43-274a07937cad",
     "showTitle": false,
     "title": ""
    }
   },
   "outputs": [],
   "source": [
    "parsed_rows_renamed.write.parquet(\"abfss://standarized@stupramonitoreomercado.dfs.core.windows.net/OTROS/SNR/transacciones.parquet\")"
   ]
  },
  {
   "cell_type": "code",
   "execution_count": null,
   "metadata": {
    "application/vnd.databricks.v1+cell": {
     "inputWidgets": {},
     "nuid": "dfe8d642-33cd-4f95-80c2-862a9d1d1712",
     "showTitle": true,
     "title": "Leer datos desde el Data Lake"
    }
   },
   "outputs": [],
   "source": [
    "df2 = spark.read.parquet(\"abfss://standarized@stupramonitoreomercado.dfs.core.windows.net/OTROS/SNR/transacciones.parquet\")\n",
    "#display(from_json(df2.select(\"col\"))\n",
    "display(df2)"
   ]
  },
  {
   "cell_type": "code",
   "execution_count": null,
   "metadata": {
    "application/vnd.databricks.v1+cell": {
     "inputWidgets": {},
     "nuid": "18ada9b9-e698-462e-a9ee-29655b59eada",
     "showTitle": true,
     "title": "Generar reporte con pandas profiling (single node)"
    }
   },
   "outputs": [],
   "source": [
    "import numpy as np\n",
    "import pandas as pd\n",
    "import pandas_profiling\n",
    "from pandas_profiling import ProfileReport\n",
    "pd.__version__\n",
    "\n"
   ]
  },
  {
   "cell_type": "code",
   "execution_count": null,
   "metadata": {
    "application/vnd.databricks.v1+cell": {
     "inputWidgets": {},
     "nuid": "855b4302-8750-44a2-b8e3-e4947d563f6a",
     "showTitle": false,
     "title": ""
    }
   },
   "outputs": [],
   "source": [
    "df = df2.select(\"*\").toPandas()\n",
    "profile = ProfileReport(df, title=\"Pandas Profiling Report\")\n",
    "displayHTML(profile.to_html())\n"
   ]
  },
  {
   "cell_type": "code",
   "execution_count": null,
   "metadata": {
    "application/vnd.databricks.v1+cell": {
     "inputWidgets": {},
     "nuid": "1b2c9d88-e7ad-432d-9306-9f6f6b14319e",
     "showTitle": false,
     "title": ""
    }
   },
   "outputs": [],
   "source": [
    "dbutils.fs.put(\"abfss://standarized@stupramonitoreomercado.dfs.core.windows.net/OTROS/SNR/transacciones.parquet_profile.html\", profile.to_html() )"
   ]
  },
  {
   "cell_type": "code",
   "execution_count": null,
   "metadata": {
    "application/vnd.databricks.v1+cell": {
     "inputWidgets": {},
     "nuid": "78c1b0b1-5c2f-4fe5-9bc2-40eabcd286d7",
     "showTitle": true,
     "title": "Profiler en el cluster de spark (optimus)"
    }
   },
   "outputs": [],
   "source": [
    "'''\n",
    "Requirements\n",
    "Apache Spark>= 2.4.0\n",
    "Python>=3.6\n",
    "\n",
    "No funciona: parece que hay  incompatiblidad con versiones recientes de pandas\n",
    "'''\n",
    "\n",
    "from pyspark.sql import SparkSession\n",
    "from optimus import Optimus\n",
    "\n",
    "spark = SparkSession.builder.appName('optimus').getOrCreate()\n",
    "op= Optimus(spark)\n",
    "\n",
    "odf = op.load.parquet(\"abfss://standarized@stupramonitoreomercado.dfs.core.windows.net/OTROS/SNR/RANGOS_CEDULA.parquet\")"
   ]
  },
  {
   "cell_type": "code",
   "execution_count": null,
   "metadata": {
    "application/vnd.databricks.v1+cell": {
     "inputWidgets": {},
     "nuid": "72954121-1af6-4c13-967a-6cb7d94e6aed",
     "showTitle": true,
     "title": "remover duplicados"
    }
   },
   "outputs": [],
   "source": [
    "df_sin_duplicados = df.drop_duplicates()"
   ]
  },
  {
   "cell_type": "code",
   "execution_count": null,
   "metadata": {
    "application/vnd.databricks.v1+cell": {
     "inputWidgets": {},
     "nuid": "5e11d19b-cdca-45b9-9b80-40312884952e",
     "showTitle": false,
     "title": ""
    }
   },
   "outputs": [],
   "source": [
    "df_sin_duplicados.shape"
   ]
  },
  {
   "cell_type": "code",
   "execution_count": null,
   "metadata": {
    "application/vnd.databricks.v1+cell": {
     "inputWidgets": {},
     "nuid": "5fb15f31-1386-45dc-9647-c2863cc1f6fb",
     "showTitle": false,
     "title": ""
    }
   },
   "outputs": [],
   "source": [
    "profile = ProfileReport(df_sin_duplicados, title=\"Pandas Profiling Report\")\n",
    "dbutils.fs.put(\"abfss://raw@stupramonitoreomercado.dfs.core.windows.net/OTROS/SNR/JSON/RANGOS_CEDULA_v3.parquet_profile_sin_duplicados.html\", profile.to_html() )"
   ]
  },
  {
   "cell_type": "code",
   "execution_count": null,
   "metadata": {
    "application/vnd.databricks.v1+cell": {
     "inputWidgets": {},
     "nuid": "bbd0735d-dd7f-4f86-a082-a8a38ee29f8e",
     "showTitle": false,
     "title": ""
    }
   },
   "outputs": [],
   "source": []
  }
 ],
 "metadata": {
  "application/vnd.databricks.v1+notebook": {
   "dashboards": [],
   "language": "python",
   "notebookName": "ETL_SNR_Transacciones",
   "notebookOrigID": 2981208377645047,
   "widgets": {}
  },
  "kernelspec": {
   "display_name": "Python 3",
   "language": "python",
   "name": "python3"
  },
  "language_info": {
   "codemirror_mode": {
    "name": "ipython",
    "version": 3
   },
   "file_extension": ".py",
   "mimetype": "text/x-python",
   "name": "python",
   "nbconvert_exporter": "python",
   "pygments_lexer": "ipython3",
   "version": "3.8.5"
  }
 },
 "nbformat": 4,
 "nbformat_minor": 4
}
